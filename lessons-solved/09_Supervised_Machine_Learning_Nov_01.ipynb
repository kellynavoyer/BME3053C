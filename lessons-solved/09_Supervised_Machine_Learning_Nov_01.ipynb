{
  "cells": [
    {
      "cell_type": "markdown",
      "metadata": {
        "id": "view-in-github",
        "colab_type": "text"
      },
      "source": [
        "<a href=\"https://colab.research.google.com/github/kellynavoyer/BME3053C/blob/main/lessons-solved/09_Supervised_Machine_Learning_Nov_01.ipynb\" target=\"_parent\"><img src=\"https://colab.research.google.com/assets/colab-badge.svg\" alt=\"Open In Colab\"/></a>"
      ]
    },
    {
      "cell_type": "markdown",
      "metadata": {
        "id": "q1-42JzNcYOy"
      },
      "source": [
        "# BME3053C - Computer Applications for BME\n",
        "\n",
        "<br/>\n",
        "\n",
        "<h1 align=\"center\">Supervised Machine Learning</h1>\n",
        "\n",
        "---\n",
        "\n",
        "<center><h2>Lesson: 09</h2></center>\n",
        "\n",
        "[![Open In Colab](https://colab.research.google.com/assets/colab-badge.svg)](https://colab.research.google.com/github/uf-bme/bme3053c/blob/main/lessons/09_Supervised_Machine_Learning.ipynb)"
      ]
    },
    {
      "cell_type": "markdown",
      "metadata": {
        "id": "AsvWR9YxcYO0"
      },
      "source": [
        "## Before We Begin!\n",
        "\n",
        "#### Here are some plotting libraries that we'll use in this notebook:\n",
        "\n",
        "\n",
        "### Plotly\n",
        "[Plotly](https://plotly.com/python/) is a powerful interactive visualization library that allows us to create publication-quality plots, including complex 3D visualizations. Some key advantages of Plotly include:\n",
        "\n",
        "- **Interactive Features**: Plots can be zoomed, panned, and rotated\n",
        "- **Export Options**: Figures can be saved as static images or interactive HTML files\n",
        "- **Wide Range of Plot Types**: Supports various chart types from basic to advanced visualizations\n",
        "- **Customization**: Extensive options for styling and formatting\n",
        "\n",
        "### Seaborn\n",
        "[Seaborn](https://seaborn.pydata.org/) is a statistical data visualization library built on top of matplotlib. It offers several advantages:\n",
        "- **Statistical Plotting**: Built-in support for statistical visualizations\n",
        "- **Beautiful Defaults**: Aesthetically pleasing default styles\n",
        "- **Integration**: Works seamlessly with pandas DataFrames\n",
        "- **Complex Visualizations**: Easy creation of complex plots like heatmaps and pair plots"
      ]
    },
    {
      "cell_type": "code",
      "execution_count": null,
      "metadata": {
        "id": "CGTc3KihcYO0"
      },
      "outputs": [],
      "source": [
        "# Check and install required packages if needed\n",
        "try:\n",
        "    import nbformat\n",
        "    import plotly\n",
        "    import seaborn as sns\n",
        "except ImportError:\n",
        "    print(\"Installing required packages...\")\n",
        "    %pip install nbformat>=4.2.0\n",
        "    %pip install plotly\n",
        "    %pip install seaborn\n",
        "\n",
        "# Import statements\n",
        "import plotly.express as px\n",
        "from plotly.subplots import make_subplots\n",
        "import plotly.graph_objects as go\n",
        "import matplotlib.pyplot as plt\n",
        "import numpy as np\n",
        "from sklearn.metrics import accuracy_score, precision_score, recall_score, f1_score, confusion_matrix\n",
        "import pandas as pd\n",
        "\n"
      ]
    },
    {
      "cell_type": "markdown",
      "metadata": {
        "id": "ciBhSh3CcYO1"
      },
      "source": [
        "---\n",
        "#### *If any of the above imports fail, please restart the kernel and run the cell above again.*\n",
        "---\n"
      ]
    },
    {
      "cell_type": "markdown",
      "metadata": {
        "id": "qmhhgHz3cYO1"
      },
      "source": [
        "## Introduction to Supervised Machine Learning\n",
        "\n",
        "Supervised machine learning is a type of machine learning where a model learns from labeled training data to make predictions or decisions based on new data. In supervised learning, each training sample comes with an input (features) and a known output (label), allowing the model to \"supervise\" itself by learning the relationship between inputs and outputs. The goal is to make accurate predictions on unseen data.\n",
        "\n",
        "### Key Concepts\n",
        "\n",
        "1. **Features**: These are the measurable properties or characteristics of the data, also known as \"independent variables.\" For instance, in a medical dataset, features might include age, blood pressure, or cholesterol levels.\n",
        "\n",
        "2. **Labels**: Labels are the outcomes we want the model to predict. In medical diagnostics, the label could be the presence or absence of a disease.\n",
        "\n",
        "3. **Model**: This is the algorithm that will learn the relationship between features and labels from the training data and make predictions on new data.\n",
        "\n",
        "4. **Learning Algorithm**: This is the method used to adjust the model's parameters so that it can accurately predict the label for a given set of features. Examples include Decision Trees, Support Vector Machines, and Neural Networks."
      ]
    },
    {
      "cell_type": "markdown",
      "metadata": {
        "id": "0I3V_n3qcYO2"
      },
      "source": [
        "### Types of Supervised Learning Problems\n",
        "\n",
        "- **Classification**: In classification problems, the model learns to predict discrete categories. For example, determining whether an X-ray shows signs of pneumonia or not.\n",
        "- **Regression**: In regression problems, the model predicts continuous values. For example, estimating a patient's blood pressure based on other health metrics."
      ]
    },
    {
      "cell_type": "markdown",
      "metadata": {
        "id": "DCG61xRzcYO2"
      },
      "source": [
        "### Real-World Applications of Supervised Machine Learning in Biomedical Engineering\n",
        "\n",
        "Supervised learning plays a critical role in advancing biomedical engineering by enhancing diagnostics, treatment, and research. Here are some applications:\n",
        "\n",
        "- **Medical Imaging**: Identifying tumors, fractures, or lesions in MRI, CT, and X-ray images using classification models.\n",
        "- **Genomics**: Predicting the likelihood of genetic diseases by analyzing DNA sequences and identifying genetic markers.\n",
        "- **ECG and Heart Rate Monitoring**: Detecting arrhythmias or abnormalities in heart rate data by classifying ECG waveforms.\n",
        "- **Drug Discovery**: Predicting molecular properties to identify potential new drugs, using both classification and regression models to assess efficacy and safety.\n",
        "- **Wearable Health Monitoring**: Analyzing data from wearable sensors to detect health conditions (e.g., blood glucose levels, oxygen saturation), providing early warnings for critical conditions.\n",
        "\n",
        "Each application requires high accuracy and robustness, which often involves the use of domain-specific features and careful evaluation to ensure reliable results."
      ]
    },
    {
      "cell_type": "markdown",
      "metadata": {
        "id": "a2oVl_MbcYO2"
      },
      "source": [
        "### How Supervised Learning Works\n",
        "\n",
        "The supervised learning process involves several steps:\n",
        "\n",
        "1. **Data Collection**: Collect a dataset with input-output pairs (features and labels).\n",
        "2. **Data Preprocessing**: Clean and prepare the data by handling missing values, scaling features, and encoding categorical variables.\n",
        "3. **Model Training**: Train the model using the labeled data, allowing it to adjust its parameters based on patterns it identifies.\n",
        "4. **Evaluation**: Evaluate the model's accuracy on new, unseen data using metrics suited to the problem type.\n",
        "5. **Deployment**: Once a model performs well, it can be deployed to make predictions on real-world data.\n",
        "\n",
        "Supervised learning has countless applications, especially in fields like healthcare, where predicting outcomes can help make better-informed clinical decisions."
      ]
    },
    {
      "cell_type": "markdown",
      "metadata": {
        "id": "McXRZB-xcYO3"
      },
      "source": [
        "### Benefits of Supervised Machine Learning\n",
        "\n",
        "Supervised learning is a powerful approach that enables computers to learn complex patterns in data. This method has several benefits, especially in applications where predictions can lead to more efficient processes and better decision-making.\n",
        "1. **High Accuracy in Predictive Tasks**\n",
        "  * Supervised learning models are trained on labeled data, which allows them to achieve high accuracy when predicting outcomes. When given a comprehensive and representative dataset, these models can make reliable predictions.\n",
        "    * **Example**: In healthcare, a supervised learning model trained on patient medical records and diagnostic tests can accurately diagnose diseases, reducing the risk of human error and assisting clinicians in making quicker, data-driven decisions.\n",
        "2. **Ability to Handle Complex Data**\n",
        "\n",
        "  * Supervised learning algorithms can manage both structured and unstructured data, such as images, text, or sensor data. This flexibility makes them suitable for complex tasks where different types of data need to be integrated.\n",
        "    * **Example**: In biomedical engineering, supervised models can analyze MRI and CT images to detect abnormalities. These models identify features in high-dimensional data that might not be immediately visible to the human eye.\n",
        "\n",
        "1. **Scalability for Large Datasets**\n",
        "\n",
        "  * As data grows, supervised models can scale with it, continually improving their performance with additional labeled data. This scalability is valuable in fields where data accumulates quickly, such as genomics or wearable health monitoring.\n",
        "    * **Example**: For wearable devices that collect real-time health data (e.g., heart rate, sleep patterns), supervised models can analyze trends and provide health insights on a large scale, benefiting from continuous data input to refine predictions.\n",
        "\n",
        "4. **Personalization and Adaptability**\n",
        "\n",
        "  * Supervised learning models can be customized for specific tasks and adapted to changes in data distribution. This adaptability allows for the development of personalized predictions and recommendations.\n",
        "    * **Example**: Personalized medicine benefits from supervised learning, as models can be tailored to predict how individual patients might respond to different treatments, leading to more effective and targeted care.\n",
        "\n",
        "5. **Reduction of Human Error**\n",
        "\n",
        "  * Automated prediction reduces human bias and error in decision-making. Supervised learning models follow objective patterns learned from data, providing a more consistent approach than subjective human interpretation.\n",
        "    * **Example**: In diagnostics, using supervised models for image analysis reduces reliance on human interpretation, ensuring that critical details are consistently considered, especially in high-stakes environments like ICU settings.\n",
        "\n",
        "6. **Efficient Processing of Large Volumes of Data**\n",
        "\n",
        "  * Supervised learning algorithms can process large volumes of data rapidly, making it possible to analyze and draw conclusions in real-time. This ability is essential in fields that require timely decision-making.\n",
        "    * **Example**: In ICU settings, supervised models can analyze continuous patient data (e.g., heart rate, oxygen levels) in real-time to detect anomalies and alert clinicians to potential issues before they become critical."
      ]
    },
    {
      "cell_type": "markdown",
      "metadata": {
        "id": "fNN1CgwwcYO3"
      },
      "source": [
        "## Classification in Biomedical Engineering\n",
        "\n",
        "Classification is a supervised learning task where the model predicts a discrete label (category) for each input.\n",
        "\n",
        "### Examples in Biomedical Engineering\n",
        "- **Disease Diagnosis**: Classifying whether a patient has a particular disease (e.g., cancer, diabetes) based on diagnostic tests and medical history.\n",
        "- **Image Analysis**: Identifying types of cells in microscopy images, such as cancerous vs. non-cancerous cells.\n",
        "- **ECG Analysis**: Detecting arrhythmias or classifying heartbeats into normal and abnormal classes.\n",
        "\n",
        "### Common Evaluation Metrics for Classification\n",
        "- **Confusion Matrix**: A matrix showing true vs. predicted classes, helpful for understanding misclassifications.\n",
        "  - **TN (True Negatives)**: Cases correctly predicted as negative\n",
        "  - **TP (True Positives)**: Cases correctly predicted as positive  \n",
        "  - **FN (False Negatives)**: Cases incorrectly predicted as negative\n",
        "  - **FP (False Positives)**: Cases incorrectly predicted as positive\n"
      ]
    },
    {
      "cell_type": "markdown",
      "metadata": {
        "id": "6jOt9ssZcYO3"
      },
      "source": [
        "<center><image src=\"https://github.com/uf-bme/bme3053c/raw/main/files/confusion_matrix.png\" height=\"300\"/></center>\n"
      ]
    },
    {
      "cell_type": "markdown",
      "metadata": {
        "id": "Tl_SrC8CcYO3"
      },
      "source": [
        "- **Accuracy**: The proportion of correctly classified samples.\n",
        "\n",
        "\n",
        "\n",
        "$Accuracy = \\frac{TP + TN}{TP + TN + FP + FN}$"
      ]
    },
    {
      "cell_type": "markdown",
      "metadata": {
        "id": "sOs5JN8XcYO4"
      },
      "source": [
        "- **Precision and Recall**:\n",
        "  - **Precision**: The proportion of positive predictions that are actually correct. It answers the question \"Of all cases we predicted as positive, what fraction were truly positive?\"\n",
        "    - $Precision = \\frac{TP}{TP + FP}$\n",
        "  - **Recall**: The proportion of actual positive cases that were correctly identified. It answers the question \"Of all the actual positive cases, what fraction did we catch?\"\n",
        "    - $Recall = \\frac{TP}{TP + FN}$\n",
        "  - In medical contexts, high precision means fewer false alarms, while high recall means fewer missed diagnoses."
      ]
    },
    {
      "cell_type": "markdown",
      "source": [
        "$Precision = \\frac{TP}{TP + FP}$,\n",
        "$Recall = \\frac{TP}{TP + FN}$"
      ],
      "metadata": {
        "id": "OTPGFXwKwGsd"
      }
    },
    {
      "cell_type": "markdown",
      "metadata": {
        "id": "uCEhtUVFcYO4"
      },
      "source": [
        "<center><image src=\"https://github.com/uf-bme/bme3053c/raw/main/files/Precisionrecall.svg.png\" height=\"500\"/></center>\n"
      ]
    },
    {
      "cell_type": "markdown",
      "metadata": {
        "id": "s9QUauiNcYO4"
      },
      "source": [
        "- **F1 Score**: The harmonic mean of precision and recall, useful for imbalanced classes.\n",
        "\n",
        "$F1 = 2 \\times \\frac{Precision \\times Recall}{Precision + Recall}$\n",
        "\n",
        "\n",
        "In biomedical applications, high accuracy and recall are often critical, as false negatives (missed cases) could have serious consequences."
      ]
    },
    {
      "cell_type": "code",
      "execution_count": null,
      "metadata": {
        "id": "0dPrsn_ucYO4",
        "outputId": "e597cf92-a9c5-4b32-f062-2a52cd380722",
        "colab": {
          "base_uri": "https://localhost:8080/",
          "height": 792
        }
      },
      "outputs": [
        {
          "output_type": "stream",
          "name": "stdout",
          "text": [
            "Test A (High Precision):\n",
            "Precision: 0.91 - Of all positive predictions, 90.9% were correct\n",
            "Recall: 0.40 - Caught 40.0% of all actual disease cases\n",
            "Accuracy: 0.97 - 96.8% of all predictions were correct\n",
            "F1 Score: 0.56\n",
            "\n",
            "Test B (High Recall):\n",
            "Precision: 0.39 - Of all positive predictions, 39.1% were correct\n",
            "Recall: 0.90 - Caught 90.0% of all actual disease cases\n",
            "Accuracy: 0.93 - 92.5% of all predictions were correct\n",
            "F1 Score: 0.55\n"
          ]
        },
        {
          "output_type": "display_data",
          "data": {
            "text/plain": [
              "<Figure size 1200x500 with 4 Axes>"
            ],
            "image/png": "[encoded data removed]"
          },
          "metadata": {}
        },
        {
          "output_type": "stream",
          "name": "stdout",
          "text": [
            "\n",
            "Discussion Question:\n",
            "In a medical context, which test would you prefer and why?\n",
            "Consider: Test A misses more cases but has fewer false alarms\n",
            "          Test B catches more cases but has more false alarms\n"
          ]
        }
      ],
      "source": [
        "# Simulate a medical test for a rare disease\n",
        "np.random.seed(42)\n",
        "\n",
        "# Generate ground truth - 1000 patients, 5% have the disease\n",
        "n_patients = 1000\n",
        "n_positive = 50  # 5% disease prevalence\n",
        "true_labels = np.array([1]*n_positive + [0]*(n_patients-n_positive))\n",
        "\n",
        "# Simulating two different medical tests\n",
        "# Test A: High Precision, Lower Recall\n",
        "\n",
        "test_A = np.array([1]*20 + [0] * 48 + [1] * 2 + [0]*(n_patients-70))  # Very few false positives\n",
        "\n",
        "# Test B: High Recall, Lower Precision\n",
        "test_B = np.array([1]*45 + [0]*5 + [1]*70 + [0]*(n_patients-120))  # Catches most positives but more false positives\n",
        "\n",
        "# Calculate metrics\n",
        "precision_A = precision_score(true_labels, test_A)\n",
        "recall_A = recall_score(true_labels, test_A)\n",
        "accuracy_A = accuracy_score(true_labels, test_A)\n",
        "f1_A = f1_score(true_labels, test_A)\n",
        "\n",
        "precision_B = precision_score(true_labels, test_B)\n",
        "recall_B = recall_score(true_labels, test_B)\n",
        "accuracy_B = accuracy_score(true_labels, test_B)\n",
        "f1_B = f1_score(true_labels, test_B)\n",
        "\n",
        "print(\"Test A (High Precision):\")\n",
        "print(f\"Precision: {precision_A:.2f} - Of all positive predictions, {precision_A*100:.1f}% were correct\")\n",
        "print(f\"Recall: {recall_A:.2f} - Caught {recall_A*100:.1f}% of all actual disease cases\")\n",
        "print(f\"Accuracy: {accuracy_A:.2f} - {accuracy_A*100:.1f}% of all predictions were correct\")\n",
        "print(f\"F1 Score: {f1_A:.2f}\")\n",
        "print(\"\\nTest B (High Recall):\")\n",
        "print(f\"Precision: {precision_B:.2f} - Of all positive predictions, {precision_B*100:.1f}% were correct\")\n",
        "print(f\"Recall: {recall_B:.2f} - Caught {recall_B*100:.1f}% of all actual disease cases\")\n",
        "print(f\"Accuracy: {accuracy_B:.2f} - {accuracy_B*100:.1f}% of all predictions were correct\")\n",
        "print(f\"F1 Score: {f1_B:.2f}\")\n",
        "\n",
        "# Visualize confusion matrices using seaborn\n",
        "fig, (ax1, ax2) = plt.subplots(1, 2, figsize=(12, 5))\n",
        "\n",
        "conf_matrix_A = confusion_matrix(true_labels, test_A)\n",
        "conf_matrix_B = confusion_matrix(true_labels, test_B)\n",
        "\n",
        "# Flip the matrices to put TP in upper left and TN in lower right\n",
        "conf_matrix_A = np.flip(conf_matrix_A, axis=(0,1))\n",
        "conf_matrix_B = np.flip(conf_matrix_B, axis=(0,1))\n",
        "\n",
        "# Plot matrices using seaborn heatmap\n",
        "sns.heatmap(conf_matrix_A, annot=True, fmt='d', cmap='Blues', ax=ax1,\n",
        "            xticklabels=['Positive', 'Negative'],\n",
        "            yticklabels=['Positive', 'Negative'])\n",
        "sns.heatmap(conf_matrix_B, annot=True, fmt='d', cmap='Blues', ax=ax2,\n",
        "            xticklabels=['Positive', 'Negative'],\n",
        "            yticklabels=['Positive', 'Negative'])\n",
        "\n",
        "ax1.set_title('Test A: High Precision\\nConfusion Matrix')\n",
        "ax2.set_title('Test B: High Recall\\nConfusion Matrix')\n",
        "\n",
        "for ax in [ax1, ax2]:\n",
        "    ax.set_xlabel('Predicted')\n",
        "    ax.set_ylabel('Actual')\n",
        "\n",
        "plt.tight_layout()\n",
        "plt.show()\n",
        "\n",
        "print(\"\\nDiscussion Question:\")\n",
        "print(\"In a medical context, which test would you prefer and why?\")\n",
        "print(\"Consider: Test A misses more cases but has fewer false alarms\")\n",
        "print(\"          Test B catches more cases but has more false alarms\")\n"
      ]
    },
    {
      "cell_type": "markdown",
      "metadata": {
        "id": "RUwKvFyMcYO4"
      },
      "source": [
        "## Regression in Biomedical Engineering\n",
        "\n",
        "Regression is a supervised learning task where the model predicts a continuous outcome or value.\n",
        "\n",
        "### Examples in Biomedical Engineering\n",
        "- **Predicting Blood Glucose Levels**: Estimating future blood glucose levels for diabetes management based on past readings and factors like diet and exercise.\n",
        "- **Drug Dosage Prediction**: Calculating personalized drug dosages for patients based on their physiological data and medication response.\n",
        "- **Bone Density Estimation**: Predicting bone density values from X-ray images to assess the risk of osteoporosis.\n",
        "\n",
        "### Common Evaluation Metrics for Regression\n",
        "- **Mean Squared Error (MSE)**: Measures the average squared differences between predicted and actual values.\n",
        "  - $MSE = \\frac{1}{n} \\sum_{i=1}^{n} (y_{pred} - y_{true})^2$\n",
        "- **Mean Absolute Error (MAE)**: The average of absolute errors, providing an intuitive measure of prediction accuracy.\n",
        "  - $MAE = \\frac{1}{n} \\sum_{i=1}^{n} |y_{pred} - y_{true}|$\n",
        "- **R² Score**: Indicates how well the model explains the variability of the data; values closer to 1 show a better fit.\n",
        "  - $R² = 1 - \\frac{\\sum_{i=1}^{n} (y_{true} - y_{pred})^2}{\\sum_{i=1}^{n} (y_{true} - y_{mean})^2}$\n",
        "\n",
        "In biomedical contexts, regression accuracy is essential for providing reliable, personalized predictions that inform critical health decisions."
      ]
    },
    {
      "cell_type": "markdown",
      "metadata": {
        "id": "7udPuO-fcYO5"
      },
      "source": [
        "### ✏️ **Exercise**  \n",
        "1. Identify whether the following problems are classification or regression:\n",
        "   - Predicting a person's heart rate\n",
        "   - Determining if an email is spam or not\n",
        "   - Estimating a person's age from a photo\n",
        "   - Categorizing news articles by topic"
      ]
    },
    {
      "cell_type": "markdown",
      "source": [
        "\n",
        "Exercise 1:\n",
        "*   Predicting a person's heart rate: regression\n",
        "*   Determining if an email is spam or not: classification\n",
        "*   Estimating a person's age from a photo: regression\n",
        "*   Categorizing news articles by topic: classification\n",
        "\n",
        "\n",
        "\n"
      ],
      "metadata": {
        "id": "GUGUPDGo_agR"
      }
    },
    {
      "cell_type": "markdown",
      "metadata": {
        "id": "ZZOCg4PUcYO5"
      },
      "source": [
        "## The Supervised Learning Process"
      ]
    },
    {
      "cell_type": "markdown",
      "metadata": {
        "id": "xmsysokQcYO5"
      },
      "source": [
        "### 1. Data Collection\n",
        "\n",
        "The first step in supervised learning is gathering a dataset that includes both inputs (features) and known outputs (labels). The quality and size of the dataset directly impact the model's accuracy and generalizability.\n",
        "\n",
        "- **Example**: In the [Iris dataset](https://scikit-learn.org/stable/datasets/toy_dataset.html#iris-dataset), we want to predict the species of iris flowers. We collect a dataset that includes features like **sepal length**, **sepal width**, **petal length**, and **petal width**. The label would be the iris species (`setosa`, `versicolor`, or `virginica`).\n",
        "\n",
        "- **Key Points**:\n",
        "  - **Diversity**: Ensure data represents the population the model will serve to avoid biases.\n",
        "  - **Size**: Larger datasets often help the model generalize better but require more computational power."
      ]
    },
    {
      "cell_type": "code",
      "execution_count": null,
      "metadata": {
        "id": "EH7lm5yQcYO5"
      },
      "outputs": [],
      "source": [
        "# Load a sample dataset\n",
        "from sklearn.datasets import load_iris\n",
        "iris = load_iris()\n",
        "df_raw = pd.DataFrame(iris.data, columns=iris.feature_names)\n",
        "df_raw['target'] = iris.target\n"
      ]
    },
    {
      "cell_type": "code",
      "execution_count": null,
      "metadata": {
        "id": "sHtL35cicYO5",
        "outputId": "f4fc5515-897b-4d5e-f03f-ef132adacbed",
        "colab": {
          "base_uri": "https://localhost:8080/",
          "height": 417
        }
      },
      "outputs": [
        {
          "output_type": "display_data",
          "data": {
            "text/html": [
              "<html>\n",
              "<head><meta charset=\"utf-8\" /></head>\n",
              "<body>\n",
              "    <div>            <script src=\"https://cdnjs.cloudflare.com/ajax/libs/mathjax/2.7.5/MathJax.js?config=TeX-AMS-MML_SVG\"></script><script type=\"text/javascript\">if (window.MathJax && window.MathJax.Hub && window.MathJax.Hub.Config) {window.MathJax.Hub.Config({SVG: {font: \"STIX-Web\"}});}</script>                <script type=\"text/javascript\">window.PlotlyConfig = {MathJaxConfig: 'local'};</script>\n",
              "        <script charset=\"utf-8\" src=\"https://cdn.plot.ly/plotly-2.35.2.min.js\"></script>                <div id=\"87382d78-059a-475c-9281-f4f07a1d36ff\" class=\"plotly-graph-div\" style=\"height:400px; width:1200px;\"></div>            <script type=\"text/javascript\">                                    window.PLOTLYENV=window.PLOTLYENV || {};                                    if (document.getElementById(\"87382d78-059a-475c-9281-f4f07a1d36ff\")) {                    Plotly.newPlot(                        \"87382d78-059a-475c-9281-f4f07a1d36ff\",                        [{\"hovertemplate\":\"Sepal Length: %{x}\\u003cbr\\u003eSepal Width: %{y}\\u003cbr\\u003ePetal Length: %{z}\\u003cbr\\u003eSpecies: %{text}\",\"marker\":{\"color\":[0,0,0,0,0,0,0,0,0,0,0,0,0,0,0,0,0,0,0,0,0,0,0,0,0,0,0,0,0,0,0,0,0,0,0,0,0,0,0,0,0,0,0,0,0,0,0,0,0,0,1,1,1,1,1,1,1,1,1,1,1,1,1,1,1,1,1,1,1,1,1,1,1,1,1,1,1,1,1,1,1,1,1,1,1,1,1,1,1,1,1,1,1,1,1,1,1,1,1,1,2,2,2,2,2,2,2,2,2,2,2,2,2,2,2,2,2,2,2,2,2,2,2,2,2,2,2,2,2,2,2,2,2,2,2,2,2,2,2,2,2,2,2,2,2,2,2,2,2,2],\"colorbar\":{\"ticktext\":[\"setosa\",\"versicolor\",\"virginica\"],\"tickvals\":[0,1,2],\"title\":{\"text\":\"Species\"}},\"colorscale\":[[0.0,\"#440154\"],[0.1111111111111111,\"#482878\"],[0.2222222222222222,\"#3e4989\"],[0.3333333333333333,\"#31688e\"],[0.4444444444444444,\"#26828e\"],[0.5555555555555556,\"#1f9e89\"],[0.6666666666666666,\"#35b779\"],[0.7777777777777778,\"#6ece58\"],[0.8888888888888888,\"#b5de2b\"],[1.0,\"#fde725\"]],\"showscale\":true,\"size\":4},\"mode\":\"markers\",\"showlegend\":false,\"text\":[\"setosa\",\"setosa\",\"setosa\",\"setosa\",\"setosa\",\"setosa\",\"setosa\",\"setosa\",\"setosa\",\"setosa\",\"setosa\",\"setosa\",\"setosa\",\"setosa\",\"setosa\",\"setosa\",\"setosa\",\"setosa\",\"setosa\",\"setosa\",\"setosa\",\"setosa\",\"setosa\",\"setosa\",\"setosa\",\"setosa\",\"setosa\",\"setosa\",\"setosa\",\"setosa\",\"setosa\",\"setosa\",\"setosa\",\"setosa\",\"setosa\",\"setosa\",\"setosa\",\"setosa\",\"setosa\",\"setosa\",\"setosa\",\"setosa\",\"setosa\",\"setosa\",\"setosa\",\"setosa\",\"setosa\",\"setosa\",\"setosa\",\"setosa\",\"versicolor\",\"versicolor\",\"versicolor\",\"versicolor\",\"versicolor\",\"versicolor\",\"versicolor\",\"versicolor\",\"versicolor\",\"versicolor\",\"versicolor\",\"versicolor\",\"versicolor\",\"versicolor\",\"versicolor\",\"versicolor\",\"versicolor\",\"versicolor\",\"versicolor\",\"versicolor\",\"versicolor\",\"versicolor\",\"versicolor\",\"versicolor\",\"versicolor\",\"versicolor\",\"versicolor\",\"versicolor\",\"versicolor\",\"versicolor\",\"versicolor\",\"versicolor\",\"versicolor\",\"versicolor\",\"versicolor\",\"versicolor\",\"versicolor\",\"versicolor\",\"versicolor\",\"versicolor\",\"versicolor\",\"versicolor\",\"versicolor\",\"versicolor\",\"versicolor\",\"versicolor\",\"versicolor\",\"versicolor\",\"versicolor\",\"versicolor\",\"virginica\",\"virginica\",\"virginica\",\"virginica\",\"virginica\",\"virginica\",\"virginica\",\"virginica\",\"virginica\",\"virginica\",\"virginica\",\"virginica\",\"virginica\",\"virginica\",\"virginica\",\"virginica\",\"virginica\",\"virginica\",\"virginica\",\"virginica\",\"virginica\",\"virginica\",\"virginica\",\"virginica\",\"virginica\",\"virginica\",\"virginica\",\"virginica\",\"virginica\",\"virginica\",\"virginica\",\"virginica\",\"virginica\",\"virginica\",\"virginica\",\"virginica\",\"virginica\",\"virginica\",\"virginica\",\"virginica\",\"virginica\",\"virginica\",\"virginica\",\"virginica\",\"virginica\",\"virginica\",\"virginica\",\"virginica\",\"virginica\",\"virginica\"],\"x\":[5.1,4.9,4.7,4.6,5.0,5.4,4.6,5.0,4.4,4.9,5.4,4.8,4.8,4.3,5.8,5.7,5.4,5.1,5.7,5.1,5.4,5.1,4.6,5.1,4.8,5.0,5.0,5.2,5.2,4.7,4.8,5.4,5.2,5.5,4.9,5.0,5.5,4.9,4.4,5.1,5.0,4.5,4.4,5.0,5.1,4.8,5.1,4.6,5.3,5.0,7.0,6.4,6.9,5.5,6.5,5.7,6.3,4.9,6.6,5.2,5.0,5.9,6.0,6.1,5.6,6.7,5.6,5.8,6.2,5.6,5.9,6.1,6.3,6.1,6.4,6.6,6.8,6.7,6.0,5.7,5.5,5.5,5.8,6.0,5.4,6.0,6.7,6.3,5.6,5.5,5.5,6.1,5.8,5.0,5.6,5.7,5.7,6.2,5.1,5.7,6.3,5.8,7.1,6.3,6.5,7.6,4.9,7.3,6.7,7.2,6.5,6.4,6.8,5.7,5.8,6.4,6.5,7.7,7.7,6.0,6.9,5.6,7.7,6.3,6.7,7.2,6.2,6.1,6.4,7.2,7.4,7.9,6.4,6.3,6.1,7.7,6.3,6.4,6.0,6.9,6.7,6.9,5.8,6.8,6.7,6.7,6.3,6.5,6.2,5.9],\"y\":[3.5,3.0,3.2,3.1,3.6,3.9,3.4,3.4,2.9,3.1,3.7,3.4,3.0,3.0,4.0,4.4,3.9,3.5,3.8,3.8,3.4,3.7,3.6,3.3,3.4,3.0,3.4,3.5,3.4,3.2,3.1,3.4,4.1,4.2,3.1,3.2,3.5,3.6,3.0,3.4,3.5,2.3,3.2,3.5,3.8,3.0,3.8,3.2,3.7,3.3,3.2,3.2,3.1,2.3,2.8,2.8,3.3,2.4,2.9,2.7,2.0,3.0,2.2,2.9,2.9,3.1,3.0,2.7,2.2,2.5,3.2,2.8,2.5,2.8,2.9,3.0,2.8,3.0,2.9,2.6,2.4,2.4,2.7,2.7,3.0,3.4,3.1,2.3,3.0,2.5,2.6,3.0,2.6,2.3,2.7,3.0,2.9,2.9,2.5,2.8,3.3,2.7,3.0,2.9,3.0,3.0,2.5,2.9,2.5,3.6,3.2,2.7,3.0,2.5,2.8,3.2,3.0,3.8,2.6,2.2,3.2,2.8,2.8,2.7,3.3,3.2,2.8,3.0,2.8,3.0,2.8,3.8,2.8,2.8,2.6,3.0,3.4,3.1,3.0,3.1,3.1,3.1,2.7,3.2,3.3,3.0,2.5,3.0,3.4,3.0],\"z\":[1.4,1.4,1.3,1.5,1.4,1.7,1.4,1.5,1.4,1.5,1.5,1.6,1.4,1.1,1.2,1.5,1.3,1.4,1.7,1.5,1.7,1.5,1.0,1.7,1.9,1.6,1.6,1.5,1.4,1.6,1.6,1.5,1.5,1.4,1.5,1.2,1.3,1.4,1.3,1.5,1.3,1.3,1.3,1.6,1.9,1.4,1.6,1.4,1.5,1.4,4.7,4.5,4.9,4.0,4.6,4.5,4.7,3.3,4.6,3.9,3.5,4.2,4.0,4.7,3.6,4.4,4.5,4.1,4.5,3.9,4.8,4.0,4.9,4.7,4.3,4.4,4.8,5.0,4.5,3.5,3.8,3.7,3.9,5.1,4.5,4.5,4.7,4.4,4.1,4.0,4.4,4.6,4.0,3.3,4.2,4.2,4.2,4.3,3.0,4.1,6.0,5.1,5.9,5.6,5.8,6.6,4.5,6.3,5.8,6.1,5.1,5.3,5.5,5.0,5.1,5.3,5.5,6.7,6.9,5.0,5.7,4.9,6.7,4.9,5.7,6.0,4.8,4.9,5.6,5.8,6.1,6.4,5.6,5.1,5.6,6.1,5.6,5.5,4.8,5.4,5.6,5.1,5.1,5.9,5.7,5.2,5.0,5.2,5.4,5.1],\"type\":\"scatter3d\",\"scene\":\"scene\"},{\"hovertemplate\":\"Petal Length: %{x}\\u003cbr\\u003ePetal Width: %{y}\\u003cbr\\u003eSepal Length: %{z}\\u003cbr\\u003eSpecies: %{text}\",\"marker\":{\"color\":[0,0,0,0,0,0,0,0,0,0,0,0,0,0,0,0,0,0,0,0,0,0,0,0,0,0,0,0,0,0,0,0,0,0,0,0,0,0,0,0,0,0,0,0,0,0,0,0,0,0,1,1,1,1,1,1,1,1,1,1,1,1,1,1,1,1,1,1,1,1,1,1,1,1,1,1,1,1,1,1,1,1,1,1,1,1,1,1,1,1,1,1,1,1,1,1,1,1,1,1,2,2,2,2,2,2,2,2,2,2,2,2,2,2,2,2,2,2,2,2,2,2,2,2,2,2,2,2,2,2,2,2,2,2,2,2,2,2,2,2,2,2,2,2,2,2,2,2,2,2],\"colorbar\":{\"ticktext\":[\"setosa\",\"versicolor\",\"virginica\"],\"tickvals\":[0,1,2],\"title\":{\"text\":\"Species\"}},\"colorscale\":[[0.0,\"#440154\"],[0.1111111111111111,\"#482878\"],[0.2222222222222222,\"#3e4989\"],[0.3333333333333333,\"#31688e\"],[0.4444444444444444,\"#26828e\"],[0.5555555555555556,\"#1f9e89\"],[0.6666666666666666,\"#35b779\"],[0.7777777777777778,\"#6ece58\"],[0.8888888888888888,\"#b5de2b\"],[1.0,\"#fde725\"]],\"showscale\":true,\"size\":4},\"mode\":\"markers\",\"showlegend\":false,\"text\":[\"setosa\",\"setosa\",\"setosa\",\"setosa\",\"setosa\",\"setosa\",\"setosa\",\"setosa\",\"setosa\",\"setosa\",\"setosa\",\"setosa\",\"setosa\",\"setosa\",\"setosa\",\"setosa\",\"setosa\",\"setosa\",\"setosa\",\"setosa\",\"setosa\",\"setosa\",\"setosa\",\"setosa\",\"setosa\",\"setosa\",\"setosa\",\"setosa\",\"setosa\",\"setosa\",\"setosa\",\"setosa\",\"setosa\",\"setosa\",\"setosa\",\"setosa\",\"setosa\",\"setosa\",\"setosa\",\"setosa\",\"setosa\",\"setosa\",\"setosa\",\"setosa\",\"setosa\",\"setosa\",\"setosa\",\"setosa\",\"setosa\",\"setosa\",\"versicolor\",\"versicolor\",\"versicolor\",\"versicolor\",\"versicolor\",\"versicolor\",\"versicolor\",\"versicolor\",\"versicolor\",\"versicolor\",\"versicolor\",\"versicolor\",\"versicolor\",\"versicolor\",\"versicolor\",\"versicolor\",\"versicolor\",\"versicolor\",\"versicolor\",\"versicolor\",\"versicolor\",\"versicolor\",\"versicolor\",\"versicolor\",\"versicolor\",\"versicolor\",\"versicolor\",\"versicolor\",\"versicolor\",\"versicolor\",\"versicolor\",\"versicolor\",\"versicolor\",\"versicolor\",\"versicolor\",\"versicolor\",\"versicolor\",\"versicolor\",\"versicolor\",\"versicolor\",\"versicolor\",\"versicolor\",\"versicolor\",\"versicolor\",\"versicolor\",\"versicolor\",\"versicolor\",\"versicolor\",\"versicolor\",\"versicolor\",\"virginica\",\"virginica\",\"virginica\",\"virginica\",\"virginica\",\"virginica\",\"virginica\",\"virginica\",\"virginica\",\"virginica\",\"virginica\",\"virginica\",\"virginica\",\"virginica\",\"virginica\",\"virginica\",\"virginica\",\"virginica\",\"virginica\",\"virginica\",\"virginica\",\"virginica\",\"virginica\",\"virginica\",\"virginica\",\"virginica\",\"virginica\",\"virginica\",\"virginica\",\"virginica\",\"virginica\",\"virginica\",\"virginica\",\"virginica\",\"virginica\",\"virginica\",\"virginica\",\"virginica\",\"virginica\",\"virginica\",\"virginica\",\"virginica\",\"virginica\",\"virginica\",\"virginica\",\"virginica\",\"virginica\",\"virginica\",\"virginica\",\"virginica\"],\"x\":[1.4,1.4,1.3,1.5,1.4,1.7,1.4,1.5,1.4,1.5,1.5,1.6,1.4,1.1,1.2,1.5,1.3,1.4,1.7,1.5,1.7,1.5,1.0,1.7,1.9,1.6,1.6,1.5,1.4,1.6,1.6,1.5,1.5,1.4,1.5,1.2,1.3,1.4,1.3,1.5,1.3,1.3,1.3,1.6,1.9,1.4,1.6,1.4,1.5,1.4,4.7,4.5,4.9,4.0,4.6,4.5,4.7,3.3,4.6,3.9,3.5,4.2,4.0,4.7,3.6,4.4,4.5,4.1,4.5,3.9,4.8,4.0,4.9,4.7,4.3,4.4,4.8,5.0,4.5,3.5,3.8,3.7,3.9,5.1,4.5,4.5,4.7,4.4,4.1,4.0,4.4,4.6,4.0,3.3,4.2,4.2,4.2,4.3,3.0,4.1,6.0,5.1,5.9,5.6,5.8,6.6,4.5,6.3,5.8,6.1,5.1,5.3,5.5,5.0,5.1,5.3,5.5,6.7,6.9,5.0,5.7,4.9,6.7,4.9,5.7,6.0,4.8,4.9,5.6,5.8,6.1,6.4,5.6,5.1,5.6,6.1,5.6,5.5,4.8,5.4,5.6,5.1,5.1,5.9,5.7,5.2,5.0,5.2,5.4,5.1],\"y\":[0.2,0.2,0.2,0.2,0.2,0.4,0.3,0.2,0.2,0.1,0.2,0.2,0.1,0.1,0.2,0.4,0.4,0.3,0.3,0.3,0.2,0.4,0.2,0.5,0.2,0.2,0.4,0.2,0.2,0.2,0.2,0.4,0.1,0.2,0.2,0.2,0.2,0.1,0.2,0.2,0.3,0.3,0.2,0.6,0.4,0.3,0.2,0.2,0.2,0.2,1.4,1.5,1.5,1.3,1.5,1.3,1.6,1.0,1.3,1.4,1.0,1.5,1.0,1.4,1.3,1.4,1.5,1.0,1.5,1.1,1.8,1.3,1.5,1.2,1.3,1.4,1.4,1.7,1.5,1.0,1.1,1.0,1.2,1.6,1.5,1.6,1.5,1.3,1.3,1.3,1.2,1.4,1.2,1.0,1.3,1.2,1.3,1.3,1.1,1.3,2.5,1.9,2.1,1.8,2.2,2.1,1.7,1.8,1.8,2.5,2.0,1.9,2.1,2.0,2.4,2.3,1.8,2.2,2.3,1.5,2.3,2.0,2.0,1.8,2.1,1.8,1.8,1.8,2.1,1.6,1.9,2.0,2.2,1.5,1.4,2.3,2.4,1.8,1.8,2.1,2.4,2.3,1.9,2.3,2.5,2.3,1.9,2.0,2.3,1.8],\"z\":[5.1,4.9,4.7,4.6,5.0,5.4,4.6,5.0,4.4,4.9,5.4,4.8,4.8,4.3,5.8,5.7,5.4,5.1,5.7,5.1,5.4,5.1,4.6,5.1,4.8,5.0,5.0,5.2,5.2,4.7,4.8,5.4,5.2,5.5,4.9,5.0,5.5,4.9,4.4,5.1,5.0,4.5,4.4,5.0,5.1,4.8,5.1,4.6,5.3,5.0,7.0,6.4,6.9,5.5,6.5,5.7,6.3,4.9,6.6,5.2,5.0,5.9,6.0,6.1,5.6,6.7,5.6,5.8,6.2,5.6,5.9,6.1,6.3,6.1,6.4,6.6,6.8,6.7,6.0,5.7,5.5,5.5,5.8,6.0,5.4,6.0,6.7,6.3,5.6,5.5,5.5,6.1,5.8,5.0,5.6,5.7,5.7,6.2,5.1,5.7,6.3,5.8,7.1,6.3,6.5,7.6,4.9,7.3,6.7,7.2,6.5,6.4,6.8,5.7,5.8,6.4,6.5,7.7,7.7,6.0,6.9,5.6,7.7,6.3,6.7,7.2,6.2,6.1,6.4,7.2,7.4,7.9,6.4,6.3,6.1,7.7,6.3,6.4,6.0,6.9,6.7,6.9,5.8,6.8,6.7,6.7,6.3,6.5,6.2,5.9],\"type\":\"scatter3d\",\"scene\":\"scene2\"}],                        {\"template\":{\"data\":{\"histogram2dcontour\":[{\"type\":\"histogram2dcontour\",\"colorbar\":{\"outlinewidth\":0,\"ticks\":\"\"},\"colorscale\":[[0.0,\"#0d0887\"],[0.1111111111111111,\"#46039f\"],[0.2222222222222222,\"#7201a8\"],[0.3333333333333333,\"#9c179e\"],[0.4444444444444444,\"#bd3786\"],[0.5555555555555556,\"#d8576b\"],[0.6666666666666666,\"#ed7953\"],[0.7777777777777778,\"#fb9f3a\"],[0.8888888888888888,\"#fdca26\"],[1.0,\"#f0f921\"]]}],\"choropleth\":[{\"type\":\"choropleth\",\"colorbar\":{\"outlinewidth\":0,\"ticks\":\"\"}}],\"histogram2d\":[{\"type\":\"histogram2d\",\"colorbar\":{\"outlinewidth\":0,\"ticks\":\"\"},\"colorscale\":[[0.0,\"#0d0887\"],[0.1111111111111111,\"#46039f\"],[0.2222222222222222,\"#7201a8\"],[0.3333333333333333,\"#9c179e\"],[0.4444444444444444,\"#bd3786\"],[0.5555555555555556,\"#d8576b\"],[0.6666666666666666,\"#ed7953\"],[0.7777777777777778,\"#fb9f3a\"],[0.8888888888888888,\"#fdca26\"],[1.0,\"#f0f921\"]]}],\"heatmap\":[{\"type\":\"heatmap\",\"colorbar\":{\"outlinewidth\":0,\"ticks\":\"\"},\"colorscale\":[[0.0,\"#0d0887\"],[0.1111111111111111,\"#46039f\"],[0.2222222222222222,\"#7201a8\"],[0.3333333333333333,\"#9c179e\"],[0.4444444444444444,\"#bd3786\"],[0.5555555555555556,\"#d8576b\"],[0.6666666666666666,\"#ed7953\"],[0.7777777777777778,\"#fb9f3a\"],[0.8888888888888888,\"#fdca26\"],[1.0,\"#f0f921\"]]}],\"heatmapgl\":[{\"type\":\"heatmapgl\",\"colorbar\":{\"outlinewidth\":0,\"ticks\":\"\"},\"colorscale\":[[0.0,\"#0d0887\"],[0.1111111111111111,\"#46039f\"],[0.2222222222222222,\"#7201a8\"],[0.3333333333333333,\"#9c179e\"],[0.4444444444444444,\"#bd3786\"],[0.5555555555555556,\"#d8576b\"],[0.6666666666666666,\"#ed7953\"],[0.7777777777777778,\"#fb9f3a\"],[0.8888888888888888,\"#fdca26\"],[1.0,\"#f0f921\"]]}],\"contourcarpet\":[{\"type\":\"contourcarpet\",\"colorbar\":{\"outlinewidth\":0,\"ticks\":\"\"}}],\"contour\":[{\"type\":\"contour\",\"colorbar\":{\"outlinewidth\":0,\"ticks\":\"\"},\"colorscale\":[[0.0,\"#0d0887\"],[0.1111111111111111,\"#46039f\"],[0.2222222222222222,\"#7201a8\"],[0.3333333333333333,\"#9c179e\"],[0.4444444444444444,\"#bd3786\"],[0.5555555555555556,\"#d8576b\"],[0.6666666666666666,\"#ed7953\"],[0.7777777777777778,\"#fb9f3a\"],[0.8888888888888888,\"#fdca26\"],[1.0,\"#f0f921\"]]}],\"surface\":[{\"type\":\"surface\",\"colorbar\":{\"outlinewidth\":0,\"ticks\":\"\"},\"colorscale\":[[0.0,\"#0d0887\"],[0.1111111111111111,\"#46039f\"],[0.2222222222222222,\"#7201a8\"],[0.3333333333333333,\"#9c179e\"],[0.4444444444444444,\"#bd3786\"],[0.5555555555555556,\"#d8576b\"],[0.6666666666666666,\"#ed7953\"],[0.7777777777777778,\"#fb9f3a\"],[0.8888888888888888,\"#fdca26\"],[1.0,\"#f0f921\"]]}],\"mesh3d\":[{\"type\":\"mesh3d\",\"colorbar\":{\"outlinewidth\":0,\"ticks\":\"\"}}],\"scatter\":[{\"fillpattern\":{\"fillmode\":\"overlay\",\"size\":10,\"solidity\":0.2},\"type\":\"scatter\"}],\"parcoords\":[{\"type\":\"parcoords\",\"line\":{\"colorbar\":{\"outlinewidth\":0,\"ticks\":\"\"}}}],\"scatterpolargl\":[{\"type\":\"scatterpolargl\",\"marker\":{\"colorbar\":{\"outlinewidth\":0,\"ticks\":\"\"}}}],\"bar\":[{\"error_x\":{\"color\":\"#2a3f5f\"},\"error_y\":{\"color\":\"#2a3f5f\"},\"marker\":{\"line\":{\"color\":\"#E5ECF6\",\"width\":0.5},\"pattern\":{\"fillmode\":\"overlay\",\"size\":10,\"solidity\":0.2}},\"type\":\"bar\"}],\"scattergeo\":[{\"type\":\"scattergeo\",\"marker\":{\"colorbar\":{\"outlinewidth\":0,\"ticks\":\"\"}}}],\"scatterpolar\":[{\"type\":\"scatterpolar\",\"marker\":{\"colorbar\":{\"outlinewidth\":0,\"ticks\":\"\"}}}],\"histogram\":[{\"marker\":{\"pattern\":{\"fillmode\":\"overlay\",\"size\":10,\"solidity\":0.2}},\"type\":\"histogram\"}],\"scattergl\":[{\"type\":\"scattergl\",\"marker\":{\"colorbar\":{\"outlinewidth\":0,\"ticks\":\"\"}}}],\"scatter3d\":[{\"type\":\"scatter3d\",\"line\":{\"colorbar\":{\"outlinewidth\":0,\"ticks\":\"\"}},\"marker\":{\"colorbar\":{\"outlinewidth\":0,\"ticks\":\"\"}}}],\"scattermapbox\":[{\"type\":\"scattermapbox\",\"marker\":{\"colorbar\":{\"outlinewidth\":0,\"ticks\":\"\"}}}],\"scatterternary\":[{\"type\":\"scatterternary\",\"marker\":{\"colorbar\":{\"outlinewidth\":0,\"ticks\":\"\"}}}],\"scattercarpet\":[{\"type\":\"scattercarpet\",\"marker\":{\"colorbar\":{\"outlinewidth\":0,\"ticks\":\"\"}}}],\"carpet\":[{\"aaxis\":{\"endlinecolor\":\"#2a3f5f\",\"gridcolor\":\"white\",\"linecolor\":\"white\",\"minorgridcolor\":\"white\",\"startlinecolor\":\"#2a3f5f\"},\"baxis\":{\"endlinecolor\":\"#2a3f5f\",\"gridcolor\":\"white\",\"linecolor\":\"white\",\"minorgridcolor\":\"white\",\"startlinecolor\":\"#2a3f5f\"},\"type\":\"carpet\"}],\"table\":[{\"cells\":{\"fill\":{\"color\":\"#EBF0F8\"},\"line\":{\"color\":\"white\"}},\"header\":{\"fill\":{\"color\":\"#C8D4E3\"},\"line\":{\"color\":\"white\"}},\"type\":\"table\"}],\"barpolar\":[{\"marker\":{\"line\":{\"color\":\"#E5ECF6\",\"width\":0.5},\"pattern\":{\"fillmode\":\"overlay\",\"size\":10,\"solidity\":0.2}},\"type\":\"barpolar\"}],\"pie\":[{\"automargin\":true,\"type\":\"pie\"}]},\"layout\":{\"autotypenumbers\":\"strict\",\"colorway\":[\"#636efa\",\"#EF553B\",\"#00cc96\",\"#ab63fa\",\"#FFA15A\",\"#19d3f3\",\"#FF6692\",\"#B6E880\",\"#FF97FF\",\"#FECB52\"],\"font\":{\"color\":\"#2a3f5f\"},\"hovermode\":\"closest\",\"hoverlabel\":{\"align\":\"left\"},\"paper_bgcolor\":\"white\",\"plot_bgcolor\":\"#E5ECF6\",\"polar\":{\"bgcolor\":\"#E5ECF6\",\"angularaxis\":{\"gridcolor\":\"white\",\"linecolor\":\"white\",\"ticks\":\"\"},\"radialaxis\":{\"gridcolor\":\"white\",\"linecolor\":\"white\",\"ticks\":\"\"}},\"ternary\":{\"bgcolor\":\"#E5ECF6\",\"aaxis\":{\"gridcolor\":\"white\",\"linecolor\":\"white\",\"ticks\":\"\"},\"baxis\":{\"gridcolor\":\"white\",\"linecolor\":\"white\",\"ticks\":\"\"},\"caxis\":{\"gridcolor\":\"white\",\"linecolor\":\"white\",\"ticks\":\"\"}},\"coloraxis\":{\"colorbar\":{\"outlinewidth\":0,\"ticks\":\"\"}},\"colorscale\":{\"sequential\":[[0.0,\"#0d0887\"],[0.1111111111111111,\"#46039f\"],[0.2222222222222222,\"#7201a8\"],[0.3333333333333333,\"#9c179e\"],[0.4444444444444444,\"#bd3786\"],[0.5555555555555556,\"#d8576b\"],[0.6666666666666666,\"#ed7953\"],[0.7777777777777778,\"#fb9f3a\"],[0.8888888888888888,\"#fdca26\"],[1.0,\"#f0f921\"]],\"sequentialminus\":[[0.0,\"#0d0887\"],[0.1111111111111111,\"#46039f\"],[0.2222222222222222,\"#7201a8\"],[0.3333333333333333,\"#9c179e\"],[0.4444444444444444,\"#bd3786\"],[0.5555555555555556,\"#d8576b\"],[0.6666666666666666,\"#ed7953\"],[0.7777777777777778,\"#fb9f3a\"],[0.8888888888888888,\"#fdca26\"],[1.0,\"#f0f921\"]],\"diverging\":[[0,\"#8e0152\"],[0.1,\"#c51b7d\"],[0.2,\"#de77ae\"],[0.3,\"#f1b6da\"],[0.4,\"#fde0ef\"],[0.5,\"#f7f7f7\"],[0.6,\"#e6f5d0\"],[0.7,\"#b8e186\"],[0.8,\"#7fbc41\"],[0.9,\"#4d9221\"],[1,\"#276419\"]]},\"xaxis\":{\"gridcolor\":\"white\",\"linecolor\":\"white\",\"ticks\":\"\",\"title\":{\"standoff\":15},\"zerolinecolor\":\"white\",\"automargin\":true,\"zerolinewidth\":2},\"yaxis\":{\"gridcolor\":\"white\",\"linecolor\":\"white\",\"ticks\":\"\",\"title\":{\"standoff\":15},\"zerolinecolor\":\"white\",\"automargin\":true,\"zerolinewidth\":2},\"scene\":{\"xaxis\":{\"backgroundcolor\":\"#E5ECF6\",\"gridcolor\":\"white\",\"linecolor\":\"white\",\"showbackground\":true,\"ticks\":\"\",\"zerolinecolor\":\"white\",\"gridwidth\":2},\"yaxis\":{\"backgroundcolor\":\"#E5ECF6\",\"gridcolor\":\"white\",\"linecolor\":\"white\",\"showbackground\":true,\"ticks\":\"\",\"zerolinecolor\":\"white\",\"gridwidth\":2},\"zaxis\":{\"backgroundcolor\":\"#E5ECF6\",\"gridcolor\":\"white\",\"linecolor\":\"white\",\"showbackground\":true,\"ticks\":\"\",\"zerolinecolor\":\"white\",\"gridwidth\":2}},\"shapedefaults\":{\"line\":{\"color\":\"#2a3f5f\"}},\"annotationdefaults\":{\"arrowcolor\":\"#2a3f5f\",\"arrowhead\":0,\"arrowwidth\":1},\"geo\":{\"bgcolor\":\"white\",\"landcolor\":\"#E5ECF6\",\"subunitcolor\":\"white\",\"showland\":true,\"showlakes\":true,\"lakecolor\":\"white\"},\"title\":{\"x\":0.05},\"mapbox\":{\"style\":\"light\"}}},\"scene\":{\"domain\":{\"x\":[0.0,0.475],\"y\":[0.0,1.0]},\"camera\":{\"eye\":{\"x\":2,\"y\":2,\"z\":2}},\"xaxis\":{\"title\":{\"text\":\"Sepal Length (cm)\"}},\"yaxis\":{\"title\":{\"text\":\"Sepal Width (cm)\"}},\"zaxis\":{\"title\":{\"text\":\"Petal Length (cm)\"}}},\"scene2\":{\"domain\":{\"x\":[0.525,1.0],\"y\":[0.0,1.0]},\"camera\":{\"eye\":{\"x\":2,\"y\":2,\"z\":2}},\"xaxis\":{\"title\":{\"text\":\"Petal Length (cm)\"}},\"yaxis\":{\"title\":{\"text\":\"Petal Width (cm)\"}},\"zaxis\":{\"title\":{\"text\":\"Sepal Length (cm)\"}}},\"annotations\":[{\"font\":{\"size\":16},\"showarrow\":false,\"text\":\"Iris Dataset: Sepal Length vs Width vs Petal Length\",\"x\":0.2375,\"xanchor\":\"center\",\"xref\":\"paper\",\"y\":1.0,\"yanchor\":\"bottom\",\"yref\":\"paper\"},{\"font\":{\"size\":16},\"showarrow\":false,\"text\":\"Iris Dataset: Petal Length vs Width vs Sepal Length\",\"x\":0.7625,\"xanchor\":\"center\",\"xref\":\"paper\",\"y\":1.0,\"yanchor\":\"bottom\",\"yref\":\"paper\"}],\"margin\":{\"l\":0,\"r\":0,\"t\":30,\"b\":0},\"width\":1200,\"height\":400},                        {\"responsive\": true}                    ).then(function(){\n",
              "                            \n",
              "var gd = document.getElementById('87382d78-059a-475c-9281-f4f07a1d36ff');\n",
              "var x = new MutationObserver(function (mutations, observer) {{\n",
              "        var display = window.getComputedStyle(gd).display;\n",
              "        if (!display || display === 'none') {{\n",
              "            console.log([gd, 'removed!']);\n",
              "            Plotly.purge(gd);\n",
              "            observer.disconnect();\n",
              "        }}\n",
              "}});\n",
              "\n",
              "// Listen for the removal of the full notebook cells\n",
              "var notebookContainer = gd.closest('#notebook-container');\n",
              "if (notebookContainer) {{\n",
              "    x.observe(notebookContainer, {childList: true});\n",
              "}}\n",
              "\n",
              "// Listen for the clearing of the current output cell\n",
              "var outputEl = gd.closest('.output');\n",
              "if (outputEl) {{\n",
              "    x.observe(outputEl, {childList: true});\n",
              "}}\n",
              "\n",
              "                        })                };                            </script>        </div>\n",
              "</body>\n",
              "</html>"
            ]
          },
          "metadata": {}
        }
      ],
      "source": [
        "# Let's visualize the Iris dataset in 3D plots showing different feature combinations\n",
        "\n",
        "# Create a mapping of target numbers to class names\n",
        "target_names = {0: 'setosa', 1: 'versicolor', 2: 'virginica'}\n",
        "df_raw['target_name'] = df_raw['target'].map(target_names)\n",
        "\n",
        "# Create figure with two 3D subplots side by side\n",
        "fig = make_subplots(\n",
        "    rows=1, cols=2,\n",
        "    specs=[[{'type': 'scene'}, {'type': 'scene'}]],\n",
        "    subplot_titles=('Iris Dataset: Sepal Length vs Width vs Petal Length',\n",
        "                   'Iris Dataset: Petal Length vs Width vs Sepal Length'),\n",
        "    horizontal_spacing=0.05  # Reduced from 0.1\n",
        ")\n",
        "\n",
        "# First subplot: sepal length vs sepal width vs petal length\n",
        "fig.add_trace(\n",
        "    go.Scatter3d(\n",
        "        x=df_raw['sepal length (cm)'],\n",
        "        y=df_raw['sepal width (cm)'],\n",
        "        z=df_raw['petal length (cm)'],\n",
        "        mode='markers',\n",
        "        marker=dict(\n",
        "            size=4,\n",
        "            color=df_raw['target'],\n",
        "            colorscale='Viridis',\n",
        "            showscale=True,\n",
        "            colorbar=dict(\n",
        "                title='Species',\n",
        "                ticktext=list(target_names.values()),\n",
        "                tickvals=list(target_names.keys())\n",
        "            )\n",
        "        ),\n",
        "        text=df_raw['target_name'],  # Add hover text\n",
        "        hovertemplate='<br>'.join([\n",
        "            'Sepal Length: %{x}',\n",
        "            'Sepal Width: %{y}',\n",
        "            'Petal Length: %{z}',\n",
        "            'Species: %{text}'\n",
        "        ]),\n",
        "        showlegend=False\n",
        "    ),\n",
        "    row=1, col=1\n",
        ")\n",
        "\n",
        "# Second subplot: petal length vs petal width vs sepal length\n",
        "fig.add_trace(\n",
        "    go.Scatter3d(\n",
        "        x=df_raw['petal length (cm)'],\n",
        "        y=df_raw['petal width (cm)'],\n",
        "        z=df_raw['sepal length (cm)'],\n",
        "        mode='markers',\n",
        "        marker=dict(\n",
        "            size=4,\n",
        "            color=df_raw['target'],\n",
        "            colorscale='Viridis',\n",
        "            showscale=True,\n",
        "            colorbar=dict(\n",
        "                title='Species',\n",
        "                ticktext=list(target_names.values()),\n",
        "                tickvals=list(target_names.keys())\n",
        "            )\n",
        "        ),\n",
        "        text=df_raw['target_name'],  # Add hover text\n",
        "        hovertemplate='<br>'.join([\n",
        "            'Petal Length: %{x}',\n",
        "            'Petal Width: %{y}',\n",
        "            'Sepal Length: %{z}',\n",
        "            'Species: %{text}'\n",
        "        ]),\n",
        "        showlegend=False\n",
        "    ),\n",
        "    row=1, col=2\n",
        ")\n",
        "\n",
        "# Update axis labels for both scenes\n",
        "fig.update_layout(\n",
        "    scene=dict(\n",
        "        xaxis_title='Sepal Length (cm)',\n",
        "        yaxis_title='Sepal Width (cm)',\n",
        "        zaxis_title='Petal Length (cm)',\n",
        "        camera=dict(\n",
        "            eye=dict(x=2, y=2, z=2)  # Increased distance from the plot\n",
        "        )\n",
        "    ),\n",
        "    scene2=dict(\n",
        "        xaxis_title='Petal Length (cm)',\n",
        "        yaxis_title='Petal Width (cm)',\n",
        "        zaxis_title='Sepal Length (cm)',\n",
        "        camera=dict(\n",
        "            eye=dict(x=2, y=2, z=2)  # Increased distance from the plot\n",
        "        )\n",
        "    ),\n",
        "    width=1200,\n",
        "    height=400,  # Increased height\n",
        "    margin=dict(l=0, r=0, t=30, b=0)  # Reduced margins around the plot\n",
        ")\n",
        "\n",
        "fig.show()\n"
      ]
    },
    {
      "cell_type": "markdown",
      "metadata": {
        "id": "Ax6THqlkcYO5"
      },
      "source": [
        "### 2. Data Preprocessing\n",
        "\n",
        "Raw data often contains inconsistencies, missing values, or irrelevant features. Preprocessing cleans and prepares data to improve model performance and accuracy.\n",
        "\n",
        "- **Common Steps**:\n",
        "  - **Handling Missing Values**: For example, filling in missing age values by the mean or median.\n",
        "  - **Feature Scaling**: Normalizing features like blood pressure to fall within a similar range can help models converge faster and perform more consistently.\n",
        "  - **Encoding Categorical Variables**: Converting non-numeric features (e.g., `male/female`) into numeric form so the model can process them.\n",
        "\n",
        "- **Example**: For the Iris dataset, if we have a categorical feature like species (`setosa/versicolor/virginica`), we might convert it using one-hot encoding to create three binary columns, where a `1` indicates the flower belongs to that species."
      ]
    },
    {
      "cell_type": "code",
      "execution_count": null,
      "metadata": {
        "id": "65-Pk99XcYO5",
        "outputId": "ed2bc0e6-9560-41c5-8414-3affc057d1c5",
        "colab": {
          "base_uri": "https://localhost:8080/"
        }
      },
      "outputs": [
        {
          "output_type": "stream",
          "name": "stdout",
          "text": [
            "Selected features: ['petal length (cm)', 'petal width (cm)']\n"
          ]
        }
      ],
      "source": [
        "from sklearn.preprocessing import StandardScaler\n",
        "from sklearn.feature_selection import SelectKBest, f_classif\n",
        "\n",
        "# Scaling numerical features\n",
        "scaler = StandardScaler()\n",
        "df = df_raw.copy()\n",
        "df[iris.feature_names] = scaler.fit_transform(df[iris.feature_names])\n",
        "# print(df.head())\n",
        "\n",
        "\n",
        "# Select top 2 features\n",
        "selector = SelectKBest(f_classif, k=2)\n",
        "X_new = selector.fit_transform(df[iris.feature_names], df['target'])\n",
        "selected_features = df[iris.feature_names].columns[selector.get_support()].tolist()\n",
        "print(\"Selected features:\", selected_features)"
      ]
    },
    {
      "cell_type": "code",
      "execution_count": null,
      "metadata": {
        "id": "llNrDQhicYO6",
        "outputId": "bd9e0947-2ce1-4fd6-83d5-14c47e075a3a",
        "colab": {
          "base_uri": "https://localhost:8080/",
          "height": 417
        }
      },
      "outputs": [
        {
          "output_type": "display_data",
          "data": {
            "text/html": [
              "<html>\n",
              "<head><meta charset=\"utf-8\" /></head>\n",
              "<body>\n",
              "    <div>            <script src=\"https://cdnjs.cloudflare.com/ajax/libs/mathjax/2.7.5/MathJax.js?config=TeX-AMS-MML_SVG\"></script><script type=\"text/javascript\">if (window.MathJax && window.MathJax.Hub && window.MathJax.Hub.Config) {window.MathJax.Hub.Config({SVG: {font: \"STIX-Web\"}});}</script>                <script type=\"text/javascript\">window.PlotlyConfig = {MathJaxConfig: 'local'};</script>\n",
              "        <script charset=\"utf-8\" src=\"https://cdn.plot.ly/plotly-2.35.2.min.js\"></script>                <div id=\"d1daf9ac-9231-4112-8295-4dad752b4094\" class=\"plotly-graph-div\" style=\"height:400px; width:1200px;\"></div>            <script type=\"text/javascript\">                                    window.PLOTLYENV=window.PLOTLYENV || {};                                    if (document.getElementById(\"d1daf9ac-9231-4112-8295-4dad752b4094\")) {                    Plotly.newPlot(                        \"d1daf9ac-9231-4112-8295-4dad752b4094\",                        [{\"hovertemplate\":\"Sepal Length: %{x}\\u003cbr\\u003eSepal Width: %{y}\\u003cbr\\u003ePetal Length: %{z}\\u003cbr\\u003eSpecies: %{text}\",\"marker\":{\"color\":[0,0,0,0,0,0,0,0,0,0,0,0,0,0,0,0,0,0,0,0,0,0,0,0,0,0,0,0,0,0,0,0,0,0,0,0,0,0,0,0,0,0,0,0,0,0,0,0,0,0,1,1,1,1,1,1,1,1,1,1,1,1,1,1,1,1,1,1,1,1,1,1,1,1,1,1,1,1,1,1,1,1,1,1,1,1,1,1,1,1,1,1,1,1,1,1,1,1,1,1,2,2,2,2,2,2,2,2,2,2,2,2,2,2,2,2,2,2,2,2,2,2,2,2,2,2,2,2,2,2,2,2,2,2,2,2,2,2,2,2,2,2,2,2,2,2,2,2,2,2],\"colorbar\":{\"ticktext\":[\"setosa\",\"versicolor\",\"virginica\"],\"tickvals\":[0,1,2],\"title\":{\"text\":\"Species\"}},\"colorscale\":[[0.0,\"#440154\"],[0.1111111111111111,\"#482878\"],[0.2222222222222222,\"#3e4989\"],[0.3333333333333333,\"#31688e\"],[0.4444444444444444,\"#26828e\"],[0.5555555555555556,\"#1f9e89\"],[0.6666666666666666,\"#35b779\"],[0.7777777777777778,\"#6ece58\"],[0.8888888888888888,\"#b5de2b\"],[1.0,\"#fde725\"]],\"showscale\":true,\"size\":4},\"mode\":\"markers\",\"showlegend\":false,\"text\":[\"setosa\",\"setosa\",\"setosa\",\"setosa\",\"setosa\",\"setosa\",\"setosa\",\"setosa\",\"setosa\",\"setosa\",\"setosa\",\"setosa\",\"setosa\",\"setosa\",\"setosa\",\"setosa\",\"setosa\",\"setosa\",\"setosa\",\"setosa\",\"setosa\",\"setosa\",\"setosa\",\"setosa\",\"setosa\",\"setosa\",\"setosa\",\"setosa\",\"setosa\",\"setosa\",\"setosa\",\"setosa\",\"setosa\",\"setosa\",\"setosa\",\"setosa\",\"setosa\",\"setosa\",\"setosa\",\"setosa\",\"setosa\",\"setosa\",\"setosa\",\"setosa\",\"setosa\",\"setosa\",\"setosa\",\"setosa\",\"setosa\",\"setosa\",\"versicolor\",\"versicolor\",\"versicolor\",\"versicolor\",\"versicolor\",\"versicolor\",\"versicolor\",\"versicolor\",\"versicolor\",\"versicolor\",\"versicolor\",\"versicolor\",\"versicolor\",\"versicolor\",\"versicolor\",\"versicolor\",\"versicolor\",\"versicolor\",\"versicolor\",\"versicolor\",\"versicolor\",\"versicolor\",\"versicolor\",\"versicolor\",\"versicolor\",\"versicolor\",\"versicolor\",\"versicolor\",\"versicolor\",\"versicolor\",\"versicolor\",\"versicolor\",\"versicolor\",\"versicolor\",\"versicolor\",\"versicolor\",\"versicolor\",\"versicolor\",\"versicolor\",\"versicolor\",\"versicolor\",\"versicolor\",\"versicolor\",\"versicolor\",\"versicolor\",\"versicolor\",\"versicolor\",\"versicolor\",\"versicolor\",\"versicolor\",\"virginica\",\"virginica\",\"virginica\",\"virginica\",\"virginica\",\"virginica\",\"virginica\",\"virginica\",\"virginica\",\"virginica\",\"virginica\",\"virginica\",\"virginica\",\"virginica\",\"virginica\",\"virginica\",\"virginica\",\"virginica\",\"virginica\",\"virginica\",\"virginica\",\"virginica\",\"virginica\",\"virginica\",\"virginica\",\"virginica\",\"virginica\",\"virginica\",\"virginica\",\"virginica\",\"virginica\",\"virginica\",\"virginica\",\"virginica\",\"virginica\",\"virginica\",\"virginica\",\"virginica\",\"virginica\",\"virginica\",\"virginica\",\"virginica\",\"virginica\",\"virginica\",\"virginica\",\"virginica\",\"virginica\",\"virginica\",\"virginica\",\"virginica\"],\"x\":[-0.9006811702978088,-1.1430169111851105,-1.3853526520724133,-1.5065205225160652,-1.0218490407414595,-0.537177558966854,-1.5065205225160652,-1.0218490407414595,-1.7488562634033669,-1.1430169111851105,-0.537177558966854,-1.2641847816287624,-1.2641847816287624,-1.870024133847019,-0.05250607719224957,-0.1736739476359004,-0.537177558966854,-0.9006811702978088,-0.1736739476359004,-0.9006811702978088,-0.537177558966854,-0.9006811702978088,-1.5065205225160652,-0.9006811702978088,-1.2641847816287624,-1.0218490407414595,-1.0218490407414595,-0.7795132998541568,-0.7795132998541568,-1.3853526520724133,-1.2641847816287624,-0.537177558966854,-0.7795132998541568,-0.4160096885232032,-1.1430169111851105,-1.0218490407414595,-0.4160096885232032,-1.1430169111851105,-1.7488562634033669,-0.9006811702978088,-1.0218490407414595,-1.6276883929597161,-1.7488562634033669,-1.0218490407414595,-0.9006811702978088,-1.2641847816287624,-0.9006811702978088,-1.5065205225160652,-0.658345429410506,-1.0218490407414595,1.401508368131566,0.6745011454696588,1.2803404976879151,-0.4160096885232032,0.7956690159133096,-0.1736739476359004,0.5533332750260068,-1.1430169111851105,0.9168368863569605,-0.7795132998541568,-1.0218490407414595,0.06866179325140237,0.18982966369505322,0.31099753413870407,-0.29484181807955234,1.0380047568006125,-0.29484181807955234,-0.05250607719224957,0.432165404582356,-0.29484181807955234,0.06866179325140237,0.31099753413870407,0.5533332750260068,0.31099753413870407,0.6745011454696588,0.9168368863569605,1.1591726272442633,1.0380047568006125,0.18982966369505322,-0.1736739476359004,-0.4160096885232032,-0.4160096885232032,-0.05250607719224957,0.18982966369505322,-0.537177558966854,0.18982966369505322,1.0380047568006125,0.5533332750260068,-0.29484181807955234,-0.4160096885232032,-0.4160096885232032,0.31099753413870407,-0.05250607719224957,-1.0218490407414595,-0.29484181807955234,-0.1736739476359004,-0.1736739476359004,0.432165404582356,-0.9006811702978088,-0.1736739476359004,0.5533332750260068,-0.05250607719224957,1.522676238575217,0.5533332750260068,0.7956690159133096,2.1285155907934734,-1.1430169111851105,1.7650119794625196,1.0380047568006125,1.643844109018869,0.7956690159133096,0.6745011454696588,1.1591726272442633,-0.1736739476359004,-0.05250607719224957,0.6745011454696588,0.7956690159133096,2.2496834612371255,2.2496834612371255,0.18982966369505322,1.2803404976879151,-0.29484181807955234,2.2496834612371255,0.5533332750260068,1.0380047568006125,1.643844109018869,0.432165404582356,0.31099753413870407,0.6745011454696588,1.643844109018869,1.8861798499061717,2.4920192021244283,0.6745011454696588,0.5533332750260068,0.31099753413870407,2.2496834612371255,0.5533332750260068,0.6745011454696588,0.18982966369505322,1.2803404976879151,1.0380047568006125,1.2803404976879151,-0.05250607719224957,1.1591726272442633,1.0380047568006125,1.0380047568006125,0.5533332750260068,0.7956690159133096,0.432165404582356,0.06866179325140237],\"y\":[1.019004351971607,-0.13197947932162468,0.32841405319566835,0.09821728693702184,1.2492011182302534,1.939791417006192,0.7888075857129604,0.7888075857129604,-0.3621762455802712,0.09821728693702184,1.4793978844889,0.7888075857129604,-0.13197947932162468,-0.13197947932162468,2.1699881832648384,3.090775248299425,1.939791417006192,1.019004351971607,1.7095946507475455,1.7095946507475455,0.7888075857129604,1.4793978844889,1.2492011182302534,0.5586108194543139,0.7888075857129604,-0.13197947932162468,0.7888075857129604,1.019004351971607,0.7888075857129604,0.32841405319566835,0.09821728693702184,0.7888075857129604,2.400184949523484,2.6303817157821316,0.09821728693702184,0.32841405319566835,1.019004351971607,1.2492011182302534,-0.13197947932162468,0.7888075857129604,1.019004351971607,-1.7433568431321493,0.32841405319566835,1.019004351971607,1.7095946507475455,-0.13197947932162468,1.7095946507475455,0.32841405319566835,1.4793978844889,0.5586108194543139,0.32841405319566835,0.32841405319566835,0.09821728693702184,-1.7433568431321493,-0.5923730118389178,-0.5923730118389178,0.5586108194543139,-1.513160076873503,-0.3621762455802712,-0.8225697780975633,-2.433947141908088,-0.13197947932162468,-1.9735536093907948,-0.3621762455802712,-0.3621762455802712,0.09821728693702184,-0.13197947932162468,-0.8225697780975633,-1.9735536093907948,-1.2829633106148564,0.32841405319566835,-0.5923730118389178,-1.2829633106148564,-0.5923730118389178,-0.3621762455802712,-0.13197947932162468,-0.5923730118389178,-0.13197947932162468,-0.3621762455802712,-1.0527665443562098,-1.513160076873503,-1.513160076873503,-0.8225697780975633,-0.8225697780975633,-0.13197947932162468,0.7888075857129604,0.09821728693702184,-1.7433568431321493,-0.13197947932162468,-1.2829633106148564,-1.0527665443562098,-0.13197947932162468,-1.0527665443562098,-1.7433568431321493,-0.8225697780975633,-0.13197947932162468,-0.3621762455802712,-0.3621762455802712,-1.2829633106148564,-0.5923730118389178,0.5586108194543139,-0.8225697780975633,-0.13197947932162468,-0.3621762455802712,-0.13197947932162468,-0.13197947932162468,-1.2829633106148564,-0.3621762455802712,-1.2829633106148564,1.2492011182302534,0.32841405319566835,-0.8225697780975633,-0.13197947932162468,-1.2829633106148564,-0.5923730118389178,0.32841405319566835,-0.13197947932162468,1.7095946507475455,-1.0527665443562098,-1.9735536093907948,0.32841405319566835,-0.5923730118389178,-0.5923730118389178,-0.8225697780975633,0.5586108194543139,0.32841405319566835,-0.5923730118389178,-0.13197947932162468,-0.5923730118389178,-0.13197947932162468,-0.5923730118389178,1.7095946507475455,-0.5923730118389178,-0.5923730118389178,-1.0527665443562098,-0.13197947932162468,0.7888075857129604,0.09821728693702184,-0.13197947932162468,0.09821728693702184,0.09821728693702184,0.09821728693702184,-0.8225697780975633,0.32841405319566835,0.5586108194543139,-0.13197947932162468,-1.2829633106148564,-0.13197947932162468,0.7888075857129604,-0.13197947932162468],\"z\":[-1.3402265266227624,-1.3402265266227624,-1.3970639535363654,-1.2833890997091593,-1.3402265266227624,-1.1697142458819532,-1.3402265266227624,-1.2833890997091593,-1.3402265266227624,-1.2833890997091593,-1.2833890997091593,-1.226551672795556,-1.3402265266227624,-1.5107388073635717,-1.4539013804499687,-1.2833890997091593,-1.3970639535363654,-1.3402265266227624,-1.1697142458819532,-1.2833890997091593,-1.1697142458819532,-1.2833890997091593,-1.567576234277175,-1.1697142458819532,-1.0560393920547466,-1.226551672795556,-1.226551672795556,-1.2833890997091593,-1.3402265266227624,-1.226551672795556,-1.226551672795556,-1.2833890997091593,-1.2833890997091593,-1.3402265266227624,-1.2833890997091593,-1.4539013804499687,-1.3970639535363654,-1.3402265266227624,-1.3970639535363654,-1.2833890997091593,-1.3970639535363654,-1.3970639535363654,-1.3970639535363654,-1.226551672795556,-1.0560393920547466,-1.3402265266227624,-1.226551672795556,-1.3402265266227624,-1.2833890997091593,-1.3402265266227624,0.5354085615261415,0.4217337076989351,0.6490834153533479,0.13754657313091936,0.47857113461253803,0.4217337076989351,0.5354085615261415,-0.26031541526430274,0.47857113461253803,0.08070914621731616,-0.14664056143709636,0.2512214269581257,0.13754657313091936,0.5354085615261415,-0.08980313452349317,0.36489628078533215,0.4217337076989351,0.1943840000445223,0.4217337076989351,0.08070914621731616,0.5922459884397444,0.13754657313091936,0.6490834153533479,0.5354085615261415,0.30805885387172866,0.36489628078533215,0.5922459884397444,0.7059208422669508,0.4217337076989351,-0.14664056143709636,0.023871719303712964,-0.032965707609889976,0.08070914621731616,0.7627582691805538,0.4217337076989351,0.4217337076989351,0.5354085615261415,0.36489628078533215,0.1943840000445223,0.13754657313091936,0.36489628078533215,0.47857113461253803,0.13754657313091936,-0.26031541526430274,0.2512214269581257,0.2512214269581257,0.2512214269581257,0.30805885387172866,-0.4308276960051121,0.1943840000445223,1.2742951114029821,0.7627582691805538,1.2174576844893792,1.0469454037485695,1.1606202575757758,1.6153196728846009,0.4217337076989351,1.4448073921437916,1.1606202575757758,1.331132538316585,0.7627582691805538,0.8764331230077601,0.9901079768349665,0.7059208422669508,0.7627582691805538,0.8764331230077601,0.9901079768349665,1.6721570997982043,1.7858319536254108,0.7059208422669508,1.1037828306621729,0.6490834153533479,1.6721570997982043,0.6490834153533479,1.1037828306621729,1.2742951114029821,0.5922459884397444,0.6490834153533479,1.0469454037485695,1.1606202575757758,1.331132538316585,1.501644819057395,1.0469454037485695,0.7627582691805538,1.0469454037485695,1.331132538316585,1.0469454037485695,0.9901079768349665,0.5922459884397444,0.9332705499213636,1.0469454037485695,0.7627582691805538,0.7627582691805538,1.2174576844893792,1.1037828306621729,0.8195956960941572,0.7059208422669508,0.8195956960941572,0.9332705499213636,0.7627582691805538],\"type\":\"scatter3d\",\"scene\":\"scene\"},{\"hovertemplate\":\"Petal Length: %{x}\\u003cbr\\u003ePetal Width: %{y}\\u003cbr\\u003eSepal Length: %{z}\\u003cbr\\u003eSpecies: %{text}\",\"marker\":{\"color\":[0,0,0,0,0,0,0,0,0,0,0,0,0,0,0,0,0,0,0,0,0,0,0,0,0,0,0,0,0,0,0,0,0,0,0,0,0,0,0,0,0,0,0,0,0,0,0,0,0,0,1,1,1,1,1,1,1,1,1,1,1,1,1,1,1,1,1,1,1,1,1,1,1,1,1,1,1,1,1,1,1,1,1,1,1,1,1,1,1,1,1,1,1,1,1,1,1,1,1,1,2,2,2,2,2,2,2,2,2,2,2,2,2,2,2,2,2,2,2,2,2,2,2,2,2,2,2,2,2,2,2,2,2,2,2,2,2,2,2,2,2,2,2,2,2,2,2,2,2,2],\"colorbar\":{\"ticktext\":[\"setosa\",\"versicolor\",\"virginica\"],\"tickvals\":[0,1,2],\"title\":{\"text\":\"Species\"}},\"colorscale\":[[0.0,\"#440154\"],[0.1111111111111111,\"#482878\"],[0.2222222222222222,\"#3e4989\"],[0.3333333333333333,\"#31688e\"],[0.4444444444444444,\"#26828e\"],[0.5555555555555556,\"#1f9e89\"],[0.6666666666666666,\"#35b779\"],[0.7777777777777778,\"#6ece58\"],[0.8888888888888888,\"#b5de2b\"],[1.0,\"#fde725\"]],\"showscale\":true,\"size\":4},\"mode\":\"markers\",\"showlegend\":false,\"text\":[\"setosa\",\"setosa\",\"setosa\",\"setosa\",\"setosa\",\"setosa\",\"setosa\",\"setosa\",\"setosa\",\"setosa\",\"setosa\",\"setosa\",\"setosa\",\"setosa\",\"setosa\",\"setosa\",\"setosa\",\"setosa\",\"setosa\",\"setosa\",\"setosa\",\"setosa\",\"setosa\",\"setosa\",\"setosa\",\"setosa\",\"setosa\",\"setosa\",\"setosa\",\"setosa\",\"setosa\",\"setosa\",\"setosa\",\"setosa\",\"setosa\",\"setosa\",\"setosa\",\"setosa\",\"setosa\",\"setosa\",\"setosa\",\"setosa\",\"setosa\",\"setosa\",\"setosa\",\"setosa\",\"setosa\",\"setosa\",\"setosa\",\"setosa\",\"versicolor\",\"versicolor\",\"versicolor\",\"versicolor\",\"versicolor\",\"versicolor\",\"versicolor\",\"versicolor\",\"versicolor\",\"versicolor\",\"versicolor\",\"versicolor\",\"versicolor\",\"versicolor\",\"versicolor\",\"versicolor\",\"versicolor\",\"versicolor\",\"versicolor\",\"versicolor\",\"versicolor\",\"versicolor\",\"versicolor\",\"versicolor\",\"versicolor\",\"versicolor\",\"versicolor\",\"versicolor\",\"versicolor\",\"versicolor\",\"versicolor\",\"versicolor\",\"versicolor\",\"versicolor\",\"versicolor\",\"versicolor\",\"versicolor\",\"versicolor\",\"versicolor\",\"versicolor\",\"versicolor\",\"versicolor\",\"versicolor\",\"versicolor\",\"versicolor\",\"versicolor\",\"versicolor\",\"versicolor\",\"versicolor\",\"versicolor\",\"virginica\",\"virginica\",\"virginica\",\"virginica\",\"virginica\",\"virginica\",\"virginica\",\"virginica\",\"virginica\",\"virginica\",\"virginica\",\"virginica\",\"virginica\",\"virginica\",\"virginica\",\"virginica\",\"virginica\",\"virginica\",\"virginica\",\"virginica\",\"virginica\",\"virginica\",\"virginica\",\"virginica\",\"virginica\",\"virginica\",\"virginica\",\"virginica\",\"virginica\",\"virginica\",\"virginica\",\"virginica\",\"virginica\",\"virginica\",\"virginica\",\"virginica\",\"virginica\",\"virginica\",\"virginica\",\"virginica\",\"virginica\",\"virginica\",\"virginica\",\"virginica\",\"virginica\",\"virginica\",\"virginica\",\"virginica\",\"virginica\",\"virginica\"],\"x\":[-1.3402265266227624,-1.3402265266227624,-1.3970639535363654,-1.2833890997091593,-1.3402265266227624,-1.1697142458819532,-1.3402265266227624,-1.2833890997091593,-1.3402265266227624,-1.2833890997091593,-1.2833890997091593,-1.226551672795556,-1.3402265266227624,-1.5107388073635717,-1.4539013804499687,-1.2833890997091593,-1.3970639535363654,-1.3402265266227624,-1.1697142458819532,-1.2833890997091593,-1.1697142458819532,-1.2833890997091593,-1.567576234277175,-1.1697142458819532,-1.0560393920547466,-1.226551672795556,-1.226551672795556,-1.2833890997091593,-1.3402265266227624,-1.226551672795556,-1.226551672795556,-1.2833890997091593,-1.2833890997091593,-1.3402265266227624,-1.2833890997091593,-1.4539013804499687,-1.3970639535363654,-1.3402265266227624,-1.3970639535363654,-1.2833890997091593,-1.3970639535363654,-1.3970639535363654,-1.3970639535363654,-1.226551672795556,-1.0560393920547466,-1.3402265266227624,-1.226551672795556,-1.3402265266227624,-1.2833890997091593,-1.3402265266227624,0.5354085615261415,0.4217337076989351,0.6490834153533479,0.13754657313091936,0.47857113461253803,0.4217337076989351,0.5354085615261415,-0.26031541526430274,0.47857113461253803,0.08070914621731616,-0.14664056143709636,0.2512214269581257,0.13754657313091936,0.5354085615261415,-0.08980313452349317,0.36489628078533215,0.4217337076989351,0.1943840000445223,0.4217337076989351,0.08070914621731616,0.5922459884397444,0.13754657313091936,0.6490834153533479,0.5354085615261415,0.30805885387172866,0.36489628078533215,0.5922459884397444,0.7059208422669508,0.4217337076989351,-0.14664056143709636,0.023871719303712964,-0.032965707609889976,0.08070914621731616,0.7627582691805538,0.4217337076989351,0.4217337076989351,0.5354085615261415,0.36489628078533215,0.1943840000445223,0.13754657313091936,0.36489628078533215,0.47857113461253803,0.13754657313091936,-0.26031541526430274,0.2512214269581257,0.2512214269581257,0.2512214269581257,0.30805885387172866,-0.4308276960051121,0.1943840000445223,1.2742951114029821,0.7627582691805538,1.2174576844893792,1.0469454037485695,1.1606202575757758,1.6153196728846009,0.4217337076989351,1.4448073921437916,1.1606202575757758,1.331132538316585,0.7627582691805538,0.8764331230077601,0.9901079768349665,0.7059208422669508,0.7627582691805538,0.8764331230077601,0.9901079768349665,1.6721570997982043,1.7858319536254108,0.7059208422669508,1.1037828306621729,0.6490834153533479,1.6721570997982043,0.6490834153533479,1.1037828306621729,1.2742951114029821,0.5922459884397444,0.6490834153533479,1.0469454037485695,1.1606202575757758,1.331132538316585,1.501644819057395,1.0469454037485695,0.7627582691805538,1.0469454037485695,1.331132538316585,1.0469454037485695,0.9901079768349665,0.5922459884397444,0.9332705499213636,1.0469454037485695,0.7627582691805538,0.7627582691805538,1.2174576844893792,1.1037828306621729,0.8195956960941572,0.7059208422669508,0.8195956960941572,0.9332705499213636,0.7627582691805538],\"y\":[-1.3154442950077403,-1.3154442950077403,-1.3154442950077403,-1.3154442950077403,-1.3154442950077403,-1.0521799264271385,-1.1838121107174393,-1.3154442950077403,-1.3154442950077403,-1.4470764792980408,-1.3154442950077403,-1.3154442950077403,-1.4470764792980408,-1.4470764792980408,-1.3154442950077403,-1.0521799264271385,-1.0521799264271385,-1.1838121107174393,-1.1838121107174393,-1.1838121107174393,-1.3154442950077403,-1.0521799264271385,-1.3154442950077403,-0.9205477421368377,-1.3154442950077403,-1.3154442950077403,-1.0521799264271385,-1.3154442950077403,-1.3154442950077403,-1.3154442950077403,-1.3154442950077403,-1.0521799264271385,-1.4470764792980408,-1.3154442950077403,-1.3154442950077403,-1.3154442950077403,-1.3154442950077403,-1.4470764792980408,-1.3154442950077403,-1.3154442950077403,-1.1838121107174393,-1.1838121107174393,-1.3154442950077403,-0.7889155578465368,-1.0521799264271385,-1.1838121107174393,-1.3154442950077403,-1.3154442950077403,-1.3154442950077403,-1.3154442950077403,0.26414191647586993,0.3957741007661709,0.3957741007661709,0.13250973218556925,0.3957741007661709,0.13250973218556925,0.5274062850564719,-0.26238682068533337,0.13250973218556925,0.26414191647586993,-0.26238682068533337,0.3957741007661709,-0.26238682068533337,0.26414191647586993,0.13250973218556925,0.26414191647586993,0.3957741007661709,-0.26238682068533337,0.3957741007661709,-0.1307546363950324,0.7906706536370736,0.13250973218556925,0.3957741007661709,0.0008775478952682834,0.13250973218556925,0.26414191647586993,0.26414191647586993,0.6590384693467726,0.3957741007661709,-0.26238682068533337,-0.1307546363950324,-0.26238682068533337,0.0008775478952682834,0.5274062850564719,0.3957741007661709,0.5274062850564719,0.3957741007661709,0.13250973218556925,0.13250973218556925,0.13250973218556925,0.0008775478952682834,0.26414191647586993,0.0008775478952682834,-0.26238682068533337,0.13250973218556925,0.0008775478952682834,0.13250973218556925,0.13250973218556925,-0.1307546363950324,0.13250973218556925,1.7120959436691794,0.9223028379273742,1.185567206507976,0.7906706536370736,1.317199390798277,1.185567206507976,0.6590384693467726,0.7906706536370736,0.7906706536370736,1.7120959436691794,1.053935022217675,0.9223028379273742,1.185567206507976,1.053935022217675,1.5804637593788784,1.4488315750885774,0.7906706536370736,1.317199390798277,1.4488315750885774,0.3957741007661709,1.4488315750885774,1.053935022217675,1.053935022217675,0.7906706536370736,1.185567206507976,0.7906706536370736,0.7906706536370736,0.7906706536370736,1.185567206507976,0.5274062850564719,0.9223028379273742,1.053935022217675,1.317199390798277,0.3957741007661709,0.26414191647586993,1.4488315750885774,1.5804637593788784,0.7906706536370736,0.7906706536370736,1.185567206507976,1.5804637593788784,1.4488315750885774,0.9223028379273742,1.4488315750885774,1.7120959436691794,1.4488315750885774,0.9223028379273742,1.053935022217675,1.4488315750885774,0.7906706536370736],\"z\":[-0.9006811702978088,-1.1430169111851105,-1.3853526520724133,-1.5065205225160652,-1.0218490407414595,-0.537177558966854,-1.5065205225160652,-1.0218490407414595,-1.7488562634033669,-1.1430169111851105,-0.537177558966854,-1.2641847816287624,-1.2641847816287624,-1.870024133847019,-0.05250607719224957,-0.1736739476359004,-0.537177558966854,-0.9006811702978088,-0.1736739476359004,-0.9006811702978088,-0.537177558966854,-0.9006811702978088,-1.5065205225160652,-0.9006811702978088,-1.2641847816287624,-1.0218490407414595,-1.0218490407414595,-0.7795132998541568,-0.7795132998541568,-1.3853526520724133,-1.2641847816287624,-0.537177558966854,-0.7795132998541568,-0.4160096885232032,-1.1430169111851105,-1.0218490407414595,-0.4160096885232032,-1.1430169111851105,-1.7488562634033669,-0.9006811702978088,-1.0218490407414595,-1.6276883929597161,-1.7488562634033669,-1.0218490407414595,-0.9006811702978088,-1.2641847816287624,-0.9006811702978088,-1.5065205225160652,-0.658345429410506,-1.0218490407414595,1.401508368131566,0.6745011454696588,1.2803404976879151,-0.4160096885232032,0.7956690159133096,-0.1736739476359004,0.5533332750260068,-1.1430169111851105,0.9168368863569605,-0.7795132998541568,-1.0218490407414595,0.06866179325140237,0.18982966369505322,0.31099753413870407,-0.29484181807955234,1.0380047568006125,-0.29484181807955234,-0.05250607719224957,0.432165404582356,-0.29484181807955234,0.06866179325140237,0.31099753413870407,0.5533332750260068,0.31099753413870407,0.6745011454696588,0.9168368863569605,1.1591726272442633,1.0380047568006125,0.18982966369505322,-0.1736739476359004,-0.4160096885232032,-0.4160096885232032,-0.05250607719224957,0.18982966369505322,-0.537177558966854,0.18982966369505322,1.0380047568006125,0.5533332750260068,-0.29484181807955234,-0.4160096885232032,-0.4160096885232032,0.31099753413870407,-0.05250607719224957,-1.0218490407414595,-0.29484181807955234,-0.1736739476359004,-0.1736739476359004,0.432165404582356,-0.9006811702978088,-0.1736739476359004,0.5533332750260068,-0.05250607719224957,1.522676238575217,0.5533332750260068,0.7956690159133096,2.1285155907934734,-1.1430169111851105,1.7650119794625196,1.0380047568006125,1.643844109018869,0.7956690159133096,0.6745011454696588,1.1591726272442633,-0.1736739476359004,-0.05250607719224957,0.6745011454696588,0.7956690159133096,2.2496834612371255,2.2496834612371255,0.18982966369505322,1.2803404976879151,-0.29484181807955234,2.2496834612371255,0.5533332750260068,1.0380047568006125,1.643844109018869,0.432165404582356,0.31099753413870407,0.6745011454696588,1.643844109018869,1.8861798499061717,2.4920192021244283,0.6745011454696588,0.5533332750260068,0.31099753413870407,2.2496834612371255,0.5533332750260068,0.6745011454696588,0.18982966369505322,1.2803404976879151,1.0380047568006125,1.2803404976879151,-0.05250607719224957,1.1591726272442633,1.0380047568006125,1.0380047568006125,0.5533332750260068,0.7956690159133096,0.432165404582356,0.06866179325140237],\"type\":\"scatter3d\",\"scene\":\"scene2\"}],                        {\"template\":{\"data\":{\"histogram2dcontour\":[{\"type\":\"histogram2dcontour\",\"colorbar\":{\"outlinewidth\":0,\"ticks\":\"\"},\"colorscale\":[[0.0,\"#0d0887\"],[0.1111111111111111,\"#46039f\"],[0.2222222222222222,\"#7201a8\"],[0.3333333333333333,\"#9c179e\"],[0.4444444444444444,\"#bd3786\"],[0.5555555555555556,\"#d8576b\"],[0.6666666666666666,\"#ed7953\"],[0.7777777777777778,\"#fb9f3a\"],[0.8888888888888888,\"#fdca26\"],[1.0,\"#f0f921\"]]}],\"choropleth\":[{\"type\":\"choropleth\",\"colorbar\":{\"outlinewidth\":0,\"ticks\":\"\"}}],\"histogram2d\":[{\"type\":\"histogram2d\",\"colorbar\":{\"outlinewidth\":0,\"ticks\":\"\"},\"colorscale\":[[0.0,\"#0d0887\"],[0.1111111111111111,\"#46039f\"],[0.2222222222222222,\"#7201a8\"],[0.3333333333333333,\"#9c179e\"],[0.4444444444444444,\"#bd3786\"],[0.5555555555555556,\"#d8576b\"],[0.6666666666666666,\"#ed7953\"],[0.7777777777777778,\"#fb9f3a\"],[0.8888888888888888,\"#fdca26\"],[1.0,\"#f0f921\"]]}],\"heatmap\":[{\"type\":\"heatmap\",\"colorbar\":{\"outlinewidth\":0,\"ticks\":\"\"},\"colorscale\":[[0.0,\"#0d0887\"],[0.1111111111111111,\"#46039f\"],[0.2222222222222222,\"#7201a8\"],[0.3333333333333333,\"#9c179e\"],[0.4444444444444444,\"#bd3786\"],[0.5555555555555556,\"#d8576b\"],[0.6666666666666666,\"#ed7953\"],[0.7777777777777778,\"#fb9f3a\"],[0.8888888888888888,\"#fdca26\"],[1.0,\"#f0f921\"]]}],\"heatmapgl\":[{\"type\":\"heatmapgl\",\"colorbar\":{\"outlinewidth\":0,\"ticks\":\"\"},\"colorscale\":[[0.0,\"#0d0887\"],[0.1111111111111111,\"#46039f\"],[0.2222222222222222,\"#7201a8\"],[0.3333333333333333,\"#9c179e\"],[0.4444444444444444,\"#bd3786\"],[0.5555555555555556,\"#d8576b\"],[0.6666666666666666,\"#ed7953\"],[0.7777777777777778,\"#fb9f3a\"],[0.8888888888888888,\"#fdca26\"],[1.0,\"#f0f921\"]]}],\"contourcarpet\":[{\"type\":\"contourcarpet\",\"colorbar\":{\"outlinewidth\":0,\"ticks\":\"\"}}],\"contour\":[{\"type\":\"contour\",\"colorbar\":{\"outlinewidth\":0,\"ticks\":\"\"},\"colorscale\":[[0.0,\"#0d0887\"],[0.1111111111111111,\"#46039f\"],[0.2222222222222222,\"#7201a8\"],[0.3333333333333333,\"#9c179e\"],[0.4444444444444444,\"#bd3786\"],[0.5555555555555556,\"#d8576b\"],[0.6666666666666666,\"#ed7953\"],[0.7777777777777778,\"#fb9f3a\"],[0.8888888888888888,\"#fdca26\"],[1.0,\"#f0f921\"]]}],\"surface\":[{\"type\":\"surface\",\"colorbar\":{\"outlinewidth\":0,\"ticks\":\"\"},\"colorscale\":[[0.0,\"#0d0887\"],[0.1111111111111111,\"#46039f\"],[0.2222222222222222,\"#7201a8\"],[0.3333333333333333,\"#9c179e\"],[0.4444444444444444,\"#bd3786\"],[0.5555555555555556,\"#d8576b\"],[0.6666666666666666,\"#ed7953\"],[0.7777777777777778,\"#fb9f3a\"],[0.8888888888888888,\"#fdca26\"],[1.0,\"#f0f921\"]]}],\"mesh3d\":[{\"type\":\"mesh3d\",\"colorbar\":{\"outlinewidth\":0,\"ticks\":\"\"}}],\"scatter\":[{\"fillpattern\":{\"fillmode\":\"overlay\",\"size\":10,\"solidity\":0.2},\"type\":\"scatter\"}],\"parcoords\":[{\"type\":\"parcoords\",\"line\":{\"colorbar\":{\"outlinewidth\":0,\"ticks\":\"\"}}}],\"scatterpolargl\":[{\"type\":\"scatterpolargl\",\"marker\":{\"colorbar\":{\"outlinewidth\":0,\"ticks\":\"\"}}}],\"bar\":[{\"error_x\":{\"color\":\"#2a3f5f\"},\"error_y\":{\"color\":\"#2a3f5f\"},\"marker\":{\"line\":{\"color\":\"#E5ECF6\",\"width\":0.5},\"pattern\":{\"fillmode\":\"overlay\",\"size\":10,\"solidity\":0.2}},\"type\":\"bar\"}],\"scattergeo\":[{\"type\":\"scattergeo\",\"marker\":{\"colorbar\":{\"outlinewidth\":0,\"ticks\":\"\"}}}],\"scatterpolar\":[{\"type\":\"scatterpolar\",\"marker\":{\"colorbar\":{\"outlinewidth\":0,\"ticks\":\"\"}}}],\"histogram\":[{\"marker\":{\"pattern\":{\"fillmode\":\"overlay\",\"size\":10,\"solidity\":0.2}},\"type\":\"histogram\"}],\"scattergl\":[{\"type\":\"scattergl\",\"marker\":{\"colorbar\":{\"outlinewidth\":0,\"ticks\":\"\"}}}],\"scatter3d\":[{\"type\":\"scatter3d\",\"line\":{\"colorbar\":{\"outlinewidth\":0,\"ticks\":\"\"}},\"marker\":{\"colorbar\":{\"outlinewidth\":0,\"ticks\":\"\"}}}],\"scattermapbox\":[{\"type\":\"scattermapbox\",\"marker\":{\"colorbar\":{\"outlinewidth\":0,\"ticks\":\"\"}}}],\"scatterternary\":[{\"type\":\"scatterternary\",\"marker\":{\"colorbar\":{\"outlinewidth\":0,\"ticks\":\"\"}}}],\"scattercarpet\":[{\"type\":\"scattercarpet\",\"marker\":{\"colorbar\":{\"outlinewidth\":0,\"ticks\":\"\"}}}],\"carpet\":[{\"aaxis\":{\"endlinecolor\":\"#2a3f5f\",\"gridcolor\":\"white\",\"linecolor\":\"white\",\"minorgridcolor\":\"white\",\"startlinecolor\":\"#2a3f5f\"},\"baxis\":{\"endlinecolor\":\"#2a3f5f\",\"gridcolor\":\"white\",\"linecolor\":\"white\",\"minorgridcolor\":\"white\",\"startlinecolor\":\"#2a3f5f\"},\"type\":\"carpet\"}],\"table\":[{\"cells\":{\"fill\":{\"color\":\"#EBF0F8\"},\"line\":{\"color\":\"white\"}},\"header\":{\"fill\":{\"color\":\"#C8D4E3\"},\"line\":{\"color\":\"white\"}},\"type\":\"table\"}],\"barpolar\":[{\"marker\":{\"line\":{\"color\":\"#E5ECF6\",\"width\":0.5},\"pattern\":{\"fillmode\":\"overlay\",\"size\":10,\"solidity\":0.2}},\"type\":\"barpolar\"}],\"pie\":[{\"automargin\":true,\"type\":\"pie\"}]},\"layout\":{\"autotypenumbers\":\"strict\",\"colorway\":[\"#636efa\",\"#EF553B\",\"#00cc96\",\"#ab63fa\",\"#FFA15A\",\"#19d3f3\",\"#FF6692\",\"#B6E880\",\"#FF97FF\",\"#FECB52\"],\"font\":{\"color\":\"#2a3f5f\"},\"hovermode\":\"closest\",\"hoverlabel\":{\"align\":\"left\"},\"paper_bgcolor\":\"white\",\"plot_bgcolor\":\"#E5ECF6\",\"polar\":{\"bgcolor\":\"#E5ECF6\",\"angularaxis\":{\"gridcolor\":\"white\",\"linecolor\":\"white\",\"ticks\":\"\"},\"radialaxis\":{\"gridcolor\":\"white\",\"linecolor\":\"white\",\"ticks\":\"\"}},\"ternary\":{\"bgcolor\":\"#E5ECF6\",\"aaxis\":{\"gridcolor\":\"white\",\"linecolor\":\"white\",\"ticks\":\"\"},\"baxis\":{\"gridcolor\":\"white\",\"linecolor\":\"white\",\"ticks\":\"\"},\"caxis\":{\"gridcolor\":\"white\",\"linecolor\":\"white\",\"ticks\":\"\"}},\"coloraxis\":{\"colorbar\":{\"outlinewidth\":0,\"ticks\":\"\"}},\"colorscale\":{\"sequential\":[[0.0,\"#0d0887\"],[0.1111111111111111,\"#46039f\"],[0.2222222222222222,\"#7201a8\"],[0.3333333333333333,\"#9c179e\"],[0.4444444444444444,\"#bd3786\"],[0.5555555555555556,\"#d8576b\"],[0.6666666666666666,\"#ed7953\"],[0.7777777777777778,\"#fb9f3a\"],[0.8888888888888888,\"#fdca26\"],[1.0,\"#f0f921\"]],\"sequentialminus\":[[0.0,\"#0d0887\"],[0.1111111111111111,\"#46039f\"],[0.2222222222222222,\"#7201a8\"],[0.3333333333333333,\"#9c179e\"],[0.4444444444444444,\"#bd3786\"],[0.5555555555555556,\"#d8576b\"],[0.6666666666666666,\"#ed7953\"],[0.7777777777777778,\"#fb9f3a\"],[0.8888888888888888,\"#fdca26\"],[1.0,\"#f0f921\"]],\"diverging\":[[0,\"#8e0152\"],[0.1,\"#c51b7d\"],[0.2,\"#de77ae\"],[0.3,\"#f1b6da\"],[0.4,\"#fde0ef\"],[0.5,\"#f7f7f7\"],[0.6,\"#e6f5d0\"],[0.7,\"#b8e186\"],[0.8,\"#7fbc41\"],[0.9,\"#4d9221\"],[1,\"#276419\"]]},\"xaxis\":{\"gridcolor\":\"white\",\"linecolor\":\"white\",\"ticks\":\"\",\"title\":{\"standoff\":15},\"zerolinecolor\":\"white\",\"automargin\":true,\"zerolinewidth\":2},\"yaxis\":{\"gridcolor\":\"white\",\"linecolor\":\"white\",\"ticks\":\"\",\"title\":{\"standoff\":15},\"zerolinecolor\":\"white\",\"automargin\":true,\"zerolinewidth\":2},\"scene\":{\"xaxis\":{\"backgroundcolor\":\"#E5ECF6\",\"gridcolor\":\"white\",\"linecolor\":\"white\",\"showbackground\":true,\"ticks\":\"\",\"zerolinecolor\":\"white\",\"gridwidth\":2},\"yaxis\":{\"backgroundcolor\":\"#E5ECF6\",\"gridcolor\":\"white\",\"linecolor\":\"white\",\"showbackground\":true,\"ticks\":\"\",\"zerolinecolor\":\"white\",\"gridwidth\":2},\"zaxis\":{\"backgroundcolor\":\"#E5ECF6\",\"gridcolor\":\"white\",\"linecolor\":\"white\",\"showbackground\":true,\"ticks\":\"\",\"zerolinecolor\":\"white\",\"gridwidth\":2}},\"shapedefaults\":{\"line\":{\"color\":\"#2a3f5f\"}},\"annotationdefaults\":{\"arrowcolor\":\"#2a3f5f\",\"arrowhead\":0,\"arrowwidth\":1},\"geo\":{\"bgcolor\":\"white\",\"landcolor\":\"#E5ECF6\",\"subunitcolor\":\"white\",\"showland\":true,\"showlakes\":true,\"lakecolor\":\"white\"},\"title\":{\"x\":0.05},\"mapbox\":{\"style\":\"light\"}}},\"scene\":{\"domain\":{\"x\":[0.0,0.475],\"y\":[0.0,1.0]},\"camera\":{\"eye\":{\"x\":2,\"y\":2,\"z\":2}},\"xaxis\":{\"title\":{\"text\":\"Sepal Length (cm)\"}},\"yaxis\":{\"title\":{\"text\":\"Sepal Width (cm)\"}},\"zaxis\":{\"title\":{\"text\":\"Petal Length (cm)\"}}},\"scene2\":{\"domain\":{\"x\":[0.525,1.0],\"y\":[0.0,1.0]},\"camera\":{\"eye\":{\"x\":2,\"y\":2,\"z\":2}},\"xaxis\":{\"title\":{\"text\":\"Petal Length (cm)\"}},\"yaxis\":{\"title\":{\"text\":\"Petal Width (cm)\"}},\"zaxis\":{\"title\":{\"text\":\"Sepal Length (cm)\"}}},\"annotations\":[{\"font\":{\"size\":16},\"showarrow\":false,\"text\":\"Iris Dataset: Sepal Length vs Width vs Petal Length\",\"x\":0.2375,\"xanchor\":\"center\",\"xref\":\"paper\",\"y\":1.0,\"yanchor\":\"bottom\",\"yref\":\"paper\"},{\"font\":{\"size\":16},\"showarrow\":false,\"text\":\"Iris Dataset: Petal Length vs Width vs Sepal Length\",\"x\":0.7625,\"xanchor\":\"center\",\"xref\":\"paper\",\"y\":1.0,\"yanchor\":\"bottom\",\"yref\":\"paper\"}],\"margin\":{\"l\":0,\"r\":0,\"t\":30,\"b\":0},\"width\":1200,\"height\":400},                        {\"responsive\": true}                    ).then(function(){\n",
              "                            \n",
              "var gd = document.getElementById('d1daf9ac-9231-4112-8295-4dad752b4094');\n",
              "var x = new MutationObserver(function (mutations, observer) {{\n",
              "        var display = window.getComputedStyle(gd).display;\n",
              "        if (!display || display === 'none') {{\n",
              "            console.log([gd, 'removed!']);\n",
              "            Plotly.purge(gd);\n",
              "            observer.disconnect();\n",
              "        }}\n",
              "}});\n",
              "\n",
              "// Listen for the removal of the full notebook cells\n",
              "var notebookContainer = gd.closest('#notebook-container');\n",
              "if (notebookContainer) {{\n",
              "    x.observe(notebookContainer, {childList: true});\n",
              "}}\n",
              "\n",
              "// Listen for the clearing of the current output cell\n",
              "var outputEl = gd.closest('.output');\n",
              "if (outputEl) {{\n",
              "    x.observe(outputEl, {childList: true});\n",
              "}}\n",
              "\n",
              "                        })                };                            </script>        </div>\n",
              "</body>\n",
              "</html>"
            ]
          },
          "metadata": {}
        }
      ],
      "source": [
        "# Let's visualize the Iris dataset in 3D plots showing different feature combinations\n",
        "\n",
        "# Create a mapping of target numbers to class names\n",
        "target_names = {0: 'setosa', 1: 'versicolor', 2: 'virginica'}\n",
        "df['target_name'] = df['target'].map(target_names)\n",
        "\n",
        "# Create figure with two 3D subplots side by side\n",
        "fig = make_subplots(\n",
        "    rows=1, cols=2,\n",
        "    specs=[[{'type': 'scene'}, {'type': 'scene'}]],\n",
        "    subplot_titles=('Iris Dataset: Sepal Length vs Width vs Petal Length',\n",
        "                   'Iris Dataset: Petal Length vs Width vs Sepal Length'),\n",
        "    horizontal_spacing=0.05  # Reduced from 0.1\n",
        ")\n",
        "\n",
        "# First subplot: sepal length vs sepal width vs petal length\n",
        "fig.add_trace(\n",
        "    go.Scatter3d(\n",
        "        x=df['sepal length (cm)'],\n",
        "        y=df['sepal width (cm)'],\n",
        "        z=df['petal length (cm)'],\n",
        "        mode='markers',\n",
        "        marker=dict(\n",
        "            size=4,\n",
        "            color=df['target'],\n",
        "            colorscale='Viridis',\n",
        "            showscale=True,\n",
        "            colorbar=dict(\n",
        "                title='Species',\n",
        "                ticktext=list(target_names.values()),\n",
        "                tickvals=list(target_names.keys())\n",
        "            )\n",
        "        ),\n",
        "        text=df['target_name'],  # Add hover text\n",
        "        hovertemplate='<br>'.join([\n",
        "            'Sepal Length: %{x}',\n",
        "            'Sepal Width: %{y}',\n",
        "            'Petal Length: %{z}',\n",
        "            'Species: %{text}'\n",
        "        ]),\n",
        "        showlegend=False\n",
        "    ),\n",
        "    row=1, col=1\n",
        ")\n",
        "\n",
        "# Second subplot: petal length vs petal width vs sepal length\n",
        "fig.add_trace(\n",
        "    go.Scatter3d(\n",
        "        x=df['petal length (cm)'],\n",
        "        y=df['petal width (cm)'],\n",
        "        z=df['sepal length (cm)'],\n",
        "        mode='markers',\n",
        "        marker=dict(\n",
        "            size=4,\n",
        "            color=df['target'],\n",
        "            colorscale='Viridis',\n",
        "            showscale=True,\n",
        "            colorbar=dict(\n",
        "                title='Species',\n",
        "                ticktext=list(target_names.values()),\n",
        "                tickvals=list(target_names.keys())\n",
        "            )\n",
        "        ),\n",
        "        text=df['target_name'],  # Add hover text\n",
        "        hovertemplate='<br>'.join([\n",
        "            'Petal Length: %{x}',\n",
        "            'Petal Width: %{y}',\n",
        "            'Sepal Length: %{z}',\n",
        "            'Species: %{text}'\n",
        "        ]),\n",
        "        showlegend=False\n",
        "    ),\n",
        "    row=1, col=2\n",
        ")\n",
        "\n",
        "# Update axis labels for both scenes\n",
        "fig.update_layout(\n",
        "    scene=dict(\n",
        "        xaxis_title='Sepal Length (cm)',\n",
        "        yaxis_title='Sepal Width (cm)',\n",
        "        zaxis_title='Petal Length (cm)',\n",
        "        camera=dict(\n",
        "            eye=dict(x=2, y=2, z=2)  # Increased distance from the plot\n",
        "        )\n",
        "    ),\n",
        "    scene2=dict(\n",
        "        xaxis_title='Petal Length (cm)',\n",
        "        yaxis_title='Petal Width (cm)',\n",
        "        zaxis_title='Sepal Length (cm)',\n",
        "        camera=dict(\n",
        "            eye=dict(x=2, y=2, z=2)  # Increased distance from the plot\n",
        "        )\n",
        "    ),\n",
        "    width=1200,\n",
        "    height=400,  # Increased height\n",
        "    margin=dict(l=0, r=0, t=30, b=0)  # Reduced margins around the plot\n",
        ")\n",
        "\n",
        "fig.show()\n"
      ]
    },
    {
      "cell_type": "markdown",
      "metadata": {
        "id": "H_AE_BgFcYO6"
      },
      "source": [
        "\n",
        "### 3. Model Training\n",
        "\n",
        "Training a model means feeding it with the labeled dataset so it can learn the patterns that link the features to the labels. In this phase, the model adjusts its internal parameters to minimize prediction errors on the training data.\n",
        "\n",
        "- **How It Works**:\n",
        "  - **Training Set**: A portion of the dataset (e.g., 70-80%) is used to train the model.\n",
        "  - **Validation Set**: Another portion (e.g., 10-15%) is used to fine-tune the model’s hyperparameters.\n",
        "  - **Testing Set**: The remaining data (e.g., 10-15%) is set aside to evaluate the model’s final performance.\n",
        "\n",
        "- **Example**: For iris flower classification, we could use a **Logistic Regression** model (a commonly used classifier) to identify relationships between features (e.g., petal length and width) and the probability of a flower belonging to each iris species."
      ]
    },
    {
      "cell_type": "code",
      "execution_count": null,
      "metadata": {
        "id": "znEIBCGlcYO6",
        "outputId": "da4b04d9-f877-4867-82ad-2ee4d6d616b6",
        "colab": {
          "base_uri": "https://localhost:8080/",
          "height": 80
        }
      },
      "outputs": [
        {
          "output_type": "execute_result",
          "data": {
            "text/plain": [
              "LogisticRegression()"
            ],
            "text/html": [
              "<style>#sk-container-id-2 {\n",
              "  /* Definition of color scheme common for light and dark mode */\n",
              "  --sklearn-color-text: black;\n",
              "  --sklearn-color-line: gray;\n",
              "  /* Definition of color scheme for unfitted estimators */\n",
              "  --sklearn-color-unfitted-level-0: #fff5e6;\n",
              "  --sklearn-color-unfitted-level-1: #f6e4d2;\n",
              "  --sklearn-color-unfitted-level-2: #ffe0b3;\n",
              "  --sklearn-color-unfitted-level-3: chocolate;\n",
              "  /* Definition of color scheme for fitted estimators */\n",
              "  --sklearn-color-fitted-level-0: #f0f8ff;\n",
              "  --sklearn-color-fitted-level-1: #d4ebff;\n",
              "  --sklearn-color-fitted-level-2: #b3dbfd;\n",
              "  --sklearn-color-fitted-level-3: cornflowerblue;\n",
              "\n",
              "  /* Specific color for light theme */\n",
              "  --sklearn-color-text-on-default-background: var(--sg-text-color, var(--theme-code-foreground, var(--jp-content-font-color1, black)));\n",
              "  --sklearn-color-background: var(--sg-background-color, var(--theme-background, var(--jp-layout-color0, white)));\n",
              "  --sklearn-color-border-box: var(--sg-text-color, var(--theme-code-foreground, var(--jp-content-font-color1, black)));\n",
              "  --sklearn-color-icon: #696969;\n",
              "\n",
              "  @media (prefers-color-scheme: dark) {\n",
              "    /* Redefinition of color scheme for dark theme */\n",
              "    --sklearn-color-text-on-default-background: var(--sg-text-color, var(--theme-code-foreground, var(--jp-content-font-color1, white)));\n",
              "    --sklearn-color-background: var(--sg-background-color, var(--theme-background, var(--jp-layout-color0, #111)));\n",
              "    --sklearn-color-border-box: var(--sg-text-color, var(--theme-code-foreground, var(--jp-content-font-color1, white)));\n",
              "    --sklearn-color-icon: #878787;\n",
              "  }\n",
              "}\n",
              "\n",
              "#sk-container-id-2 {\n",
              "  color: var(--sklearn-color-text);\n",
              "}\n",
              "\n",
              "#sk-container-id-2 pre {\n",
              "  padding: 0;\n",
              "}\n",
              "\n",
              "#sk-container-id-2 input.sk-hidden--visually {\n",
              "  border: 0;\n",
              "  clip: rect(1px 1px 1px 1px);\n",
              "  clip: rect(1px, 1px, 1px, 1px);\n",
              "  height: 1px;\n",
              "  margin: -1px;\n",
              "  overflow: hidden;\n",
              "  padding: 0;\n",
              "  position: absolute;\n",
              "  width: 1px;\n",
              "}\n",
              "\n",
              "#sk-container-id-2 div.sk-dashed-wrapped {\n",
              "  border: 1px dashed var(--sklearn-color-line);\n",
              "  margin: 0 0.4em 0.5em 0.4em;\n",
              "  box-sizing: border-box;\n",
              "  padding-bottom: 0.4em;\n",
              "  background-color: var(--sklearn-color-background);\n",
              "}\n",
              "\n",
              "#sk-container-id-2 div.sk-container {\n",
              "  /* jupyter's `normalize.less` sets `[hidden] { display: none; }`\n",
              "     but bootstrap.min.css set `[hidden] { display: none !important; }`\n",
              "     so we also need the `!important` here to be able to override the\n",
              "     default hidden behavior on the sphinx rendered scikit-learn.org.\n",
              "     See: https://github.com/scikit-learn/scikit-learn/issues/21755 */\n",
              "  display: inline-block !important;\n",
              "  position: relative;\n",
              "}\n",
              "\n",
              "#sk-container-id-2 div.sk-text-repr-fallback {\n",
              "  display: none;\n",
              "}\n",
              "\n",
              "div.sk-parallel-item,\n",
              "div.sk-serial,\n",
              "div.sk-item {\n",
              "  /* draw centered vertical line to link estimators */\n",
              "  background-image: linear-gradient(var(--sklearn-color-text-on-default-background), var(--sklearn-color-text-on-default-background));\n",
              "  background-size: 2px 100%;\n",
              "  background-repeat: no-repeat;\n",
              "  background-position: center center;\n",
              "}\n",
              "\n",
              "/* Parallel-specific style estimator block */\n",
              "\n",
              "#sk-container-id-2 div.sk-parallel-item::after {\n",
              "  content: \"\";\n",
              "  width: 100%;\n",
              "  border-bottom: 2px solid var(--sklearn-color-text-on-default-background);\n",
              "  flex-grow: 1;\n",
              "}\n",
              "\n",
              "#sk-container-id-2 div.sk-parallel {\n",
              "  display: flex;\n",
              "  align-items: stretch;\n",
              "  justify-content: center;\n",
              "  background-color: var(--sklearn-color-background);\n",
              "  position: relative;\n",
              "}\n",
              "\n",
              "#sk-container-id-2 div.sk-parallel-item {\n",
              "  display: flex;\n",
              "  flex-direction: column;\n",
              "}\n",
              "\n",
              "#sk-container-id-2 div.sk-parallel-item:first-child::after {\n",
              "  align-self: flex-end;\n",
              "  width: 50%;\n",
              "}\n",
              "\n",
              "#sk-container-id-2 div.sk-parallel-item:last-child::after {\n",
              "  align-self: flex-start;\n",
              "  width: 50%;\n",
              "}\n",
              "\n",
              "#sk-container-id-2 div.sk-parallel-item:only-child::after {\n",
              "  width: 0;\n",
              "}\n",
              "\n",
              "/* Serial-specific style estimator block */\n",
              "\n",
              "#sk-container-id-2 div.sk-serial {\n",
              "  display: flex;\n",
              "  flex-direction: column;\n",
              "  align-items: center;\n",
              "  background-color: var(--sklearn-color-background);\n",
              "  padding-right: 1em;\n",
              "  padding-left: 1em;\n",
              "}\n",
              "\n",
              "\n",
              "/* Toggleable style: style used for estimator/Pipeline/ColumnTransformer box that is\n",
              "clickable and can be expanded/collapsed.\n",
              "- Pipeline and ColumnTransformer use this feature and define the default style\n",
              "- Estimators will overwrite some part of the style using the `sk-estimator` class\n",
              "*/\n",
              "\n",
              "/* Pipeline and ColumnTransformer style (default) */\n",
              "\n",
              "#sk-container-id-2 div.sk-toggleable {\n",
              "  /* Default theme specific background. It is overwritten whether we have a\n",
              "  specific estimator or a Pipeline/ColumnTransformer */\n",
              "  background-color: var(--sklearn-color-background);\n",
              "}\n",
              "\n",
              "/* Toggleable label */\n",
              "#sk-container-id-2 label.sk-toggleable__label {\n",
              "  cursor: pointer;\n",
              "  display: block;\n",
              "  width: 100%;\n",
              "  margin-bottom: 0;\n",
              "  padding: 0.5em;\n",
              "  box-sizing: border-box;\n",
              "  text-align: center;\n",
              "}\n",
              "\n",
              "#sk-container-id-2 label.sk-toggleable__label-arrow:before {\n",
              "  /* Arrow on the left of the label */\n",
              "  content: \"▸\";\n",
              "  float: left;\n",
              "  margin-right: 0.25em;\n",
              "  color: var(--sklearn-color-icon);\n",
              "}\n",
              "\n",
              "#sk-container-id-2 label.sk-toggleable__label-arrow:hover:before {\n",
              "  color: var(--sklearn-color-text);\n",
              "}\n",
              "\n",
              "/* Toggleable content - dropdown */\n",
              "\n",
              "#sk-container-id-2 div.sk-toggleable__content {\n",
              "  max-height: 0;\n",
              "  max-width: 0;\n",
              "  overflow: hidden;\n",
              "  text-align: left;\n",
              "  /* unfitted */\n",
              "  background-color: var(--sklearn-color-unfitted-level-0);\n",
              "}\n",
              "\n",
              "#sk-container-id-2 div.sk-toggleable__content.fitted {\n",
              "  /* fitted */\n",
              "  background-color: var(--sklearn-color-fitted-level-0);\n",
              "}\n",
              "\n",
              "#sk-container-id-2 div.sk-toggleable__content pre {\n",
              "  margin: 0.2em;\n",
              "  border-radius: 0.25em;\n",
              "  color: var(--sklearn-color-text);\n",
              "  /* unfitted */\n",
              "  background-color: var(--sklearn-color-unfitted-level-0);\n",
              "}\n",
              "\n",
              "#sk-container-id-2 div.sk-toggleable__content.fitted pre {\n",
              "  /* unfitted */\n",
              "  background-color: var(--sklearn-color-fitted-level-0);\n",
              "}\n",
              "\n",
              "#sk-container-id-2 input.sk-toggleable__control:checked~div.sk-toggleable__content {\n",
              "  /* Expand drop-down */\n",
              "  max-height: 200px;\n",
              "  max-width: 100%;\n",
              "  overflow: auto;\n",
              "}\n",
              "\n",
              "#sk-container-id-2 input.sk-toggleable__control:checked~label.sk-toggleable__label-arrow:before {\n",
              "  content: \"▾\";\n",
              "}\n",
              "\n",
              "/* Pipeline/ColumnTransformer-specific style */\n",
              "\n",
              "#sk-container-id-2 div.sk-label input.sk-toggleable__control:checked~label.sk-toggleable__label {\n",
              "  color: var(--sklearn-color-text);\n",
              "  background-color: var(--sklearn-color-unfitted-level-2);\n",
              "}\n",
              "\n",
              "#sk-container-id-2 div.sk-label.fitted input.sk-toggleable__control:checked~label.sk-toggleable__label {\n",
              "  background-color: var(--sklearn-color-fitted-level-2);\n",
              "}\n",
              "\n",
              "/* Estimator-specific style */\n",
              "\n",
              "/* Colorize estimator box */\n",
              "#sk-container-id-2 div.sk-estimator input.sk-toggleable__control:checked~label.sk-toggleable__label {\n",
              "  /* unfitted */\n",
              "  background-color: var(--sklearn-color-unfitted-level-2);\n",
              "}\n",
              "\n",
              "#sk-container-id-2 div.sk-estimator.fitted input.sk-toggleable__control:checked~label.sk-toggleable__label {\n",
              "  /* fitted */\n",
              "  background-color: var(--sklearn-color-fitted-level-2);\n",
              "}\n",
              "\n",
              "#sk-container-id-2 div.sk-label label.sk-toggleable__label,\n",
              "#sk-container-id-2 div.sk-label label {\n",
              "  /* The background is the default theme color */\n",
              "  color: var(--sklearn-color-text-on-default-background);\n",
              "}\n",
              "\n",
              "/* On hover, darken the color of the background */\n",
              "#sk-container-id-2 div.sk-label:hover label.sk-toggleable__label {\n",
              "  color: var(--sklearn-color-text);\n",
              "  background-color: var(--sklearn-color-unfitted-level-2);\n",
              "}\n",
              "\n",
              "/* Label box, darken color on hover, fitted */\n",
              "#sk-container-id-2 div.sk-label.fitted:hover label.sk-toggleable__label.fitted {\n",
              "  color: var(--sklearn-color-text);\n",
              "  background-color: var(--sklearn-color-fitted-level-2);\n",
              "}\n",
              "\n",
              "/* Estimator label */\n",
              "\n",
              "#sk-container-id-2 div.sk-label label {\n",
              "  font-family: monospace;\n",
              "  font-weight: bold;\n",
              "  display: inline-block;\n",
              "  line-height: 1.2em;\n",
              "}\n",
              "\n",
              "#sk-container-id-2 div.sk-label-container {\n",
              "  text-align: center;\n",
              "}\n",
              "\n",
              "/* Estimator-specific */\n",
              "#sk-container-id-2 div.sk-estimator {\n",
              "  font-family: monospace;\n",
              "  border: 1px dotted var(--sklearn-color-border-box);\n",
              "  border-radius: 0.25em;\n",
              "  box-sizing: border-box;\n",
              "  margin-bottom: 0.5em;\n",
              "  /* unfitted */\n",
              "  background-color: var(--sklearn-color-unfitted-level-0);\n",
              "}\n",
              "\n",
              "#sk-container-id-2 div.sk-estimator.fitted {\n",
              "  /* fitted */\n",
              "  background-color: var(--sklearn-color-fitted-level-0);\n",
              "}\n",
              "\n",
              "/* on hover */\n",
              "#sk-container-id-2 div.sk-estimator:hover {\n",
              "  /* unfitted */\n",
              "  background-color: var(--sklearn-color-unfitted-level-2);\n",
              "}\n",
              "\n",
              "#sk-container-id-2 div.sk-estimator.fitted:hover {\n",
              "  /* fitted */\n",
              "  background-color: var(--sklearn-color-fitted-level-2);\n",
              "}\n",
              "\n",
              "/* Specification for estimator info (e.g. \"i\" and \"?\") */\n",
              "\n",
              "/* Common style for \"i\" and \"?\" */\n",
              "\n",
              ".sk-estimator-doc-link,\n",
              "a:link.sk-estimator-doc-link,\n",
              "a:visited.sk-estimator-doc-link {\n",
              "  float: right;\n",
              "  font-size: smaller;\n",
              "  line-height: 1em;\n",
              "  font-family: monospace;\n",
              "  background-color: var(--sklearn-color-background);\n",
              "  border-radius: 1em;\n",
              "  height: 1em;\n",
              "  width: 1em;\n",
              "  text-decoration: none !important;\n",
              "  margin-left: 1ex;\n",
              "  /* unfitted */\n",
              "  border: var(--sklearn-color-unfitted-level-1) 1pt solid;\n",
              "  color: var(--sklearn-color-unfitted-level-1);\n",
              "}\n",
              "\n",
              ".sk-estimator-doc-link.fitted,\n",
              "a:link.sk-estimator-doc-link.fitted,\n",
              "a:visited.sk-estimator-doc-link.fitted {\n",
              "  /* fitted */\n",
              "  border: var(--sklearn-color-fitted-level-1) 1pt solid;\n",
              "  color: var(--sklearn-color-fitted-level-1);\n",
              "}\n",
              "\n",
              "/* On hover */\n",
              "div.sk-estimator:hover .sk-estimator-doc-link:hover,\n",
              ".sk-estimator-doc-link:hover,\n",
              "div.sk-label-container:hover .sk-estimator-doc-link:hover,\n",
              ".sk-estimator-doc-link:hover {\n",
              "  /* unfitted */\n",
              "  background-color: var(--sklearn-color-unfitted-level-3);\n",
              "  color: var(--sklearn-color-background);\n",
              "  text-decoration: none;\n",
              "}\n",
              "\n",
              "div.sk-estimator.fitted:hover .sk-estimator-doc-link.fitted:hover,\n",
              ".sk-estimator-doc-link.fitted:hover,\n",
              "div.sk-label-container:hover .sk-estimator-doc-link.fitted:hover,\n",
              ".sk-estimator-doc-link.fitted:hover {\n",
              "  /* fitted */\n",
              "  background-color: var(--sklearn-color-fitted-level-3);\n",
              "  color: var(--sklearn-color-background);\n",
              "  text-decoration: none;\n",
              "}\n",
              "\n",
              "/* Span, style for the box shown on hovering the info icon */\n",
              ".sk-estimator-doc-link span {\n",
              "  display: none;\n",
              "  z-index: 9999;\n",
              "  position: relative;\n",
              "  font-weight: normal;\n",
              "  right: .2ex;\n",
              "  padding: .5ex;\n",
              "  margin: .5ex;\n",
              "  width: min-content;\n",
              "  min-width: 20ex;\n",
              "  max-width: 50ex;\n",
              "  color: var(--sklearn-color-text);\n",
              "  box-shadow: 2pt 2pt 4pt #999;\n",
              "  /* unfitted */\n",
              "  background: var(--sklearn-color-unfitted-level-0);\n",
              "  border: .5pt solid var(--sklearn-color-unfitted-level-3);\n",
              "}\n",
              "\n",
              ".sk-estimator-doc-link.fitted span {\n",
              "  /* fitted */\n",
              "  background: var(--sklearn-color-fitted-level-0);\n",
              "  border: var(--sklearn-color-fitted-level-3);\n",
              "}\n",
              "\n",
              ".sk-estimator-doc-link:hover span {\n",
              "  display: block;\n",
              "}\n",
              "\n",
              "/* \"?\"-specific style due to the `<a>` HTML tag */\n",
              "\n",
              "#sk-container-id-2 a.estimator_doc_link {\n",
              "  float: right;\n",
              "  font-size: 1rem;\n",
              "  line-height: 1em;\n",
              "  font-family: monospace;\n",
              "  background-color: var(--sklearn-color-background);\n",
              "  border-radius: 1rem;\n",
              "  height: 1rem;\n",
              "  width: 1rem;\n",
              "  text-decoration: none;\n",
              "  /* unfitted */\n",
              "  color: var(--sklearn-color-unfitted-level-1);\n",
              "  border: var(--sklearn-color-unfitted-level-1) 1pt solid;\n",
              "}\n",
              "\n",
              "#sk-container-id-2 a.estimator_doc_link.fitted {\n",
              "  /* fitted */\n",
              "  border: var(--sklearn-color-fitted-level-1) 1pt solid;\n",
              "  color: var(--sklearn-color-fitted-level-1);\n",
              "}\n",
              "\n",
              "/* On hover */\n",
              "#sk-container-id-2 a.estimator_doc_link:hover {\n",
              "  /* unfitted */\n",
              "  background-color: var(--sklearn-color-unfitted-level-3);\n",
              "  color: var(--sklearn-color-background);\n",
              "  text-decoration: none;\n",
              "}\n",
              "\n",
              "#sk-container-id-2 a.estimator_doc_link.fitted:hover {\n",
              "  /* fitted */\n",
              "  background-color: var(--sklearn-color-fitted-level-3);\n",
              "}\n",
              "</style><div id=\"sk-container-id-2\" class=\"sk-top-container\"><div class=\"sk-text-repr-fallback\"><pre>LogisticRegression()</pre><b>In a Jupyter environment, please rerun this cell to show the HTML representation or trust the notebook. <br />On GitHub, the HTML representation is unable to render, please try loading this page with nbviewer.org.</b></div><div class=\"sk-container\" hidden><div class=\"sk-item\"><div class=\"sk-estimator fitted sk-toggleable\"><input class=\"sk-toggleable__control sk-hidden--visually\" id=\"sk-estimator-id-2\" type=\"checkbox\" checked><label for=\"sk-estimator-id-2\" class=\"sk-toggleable__label fitted sk-toggleable__label-arrow fitted\">&nbsp;&nbsp;LogisticRegression<a class=\"sk-estimator-doc-link fitted\" rel=\"noreferrer\" target=\"_blank\" href=\"https://scikit-learn.org/1.5/modules/generated/sklearn.linear_model.LogisticRegression.html\">?<span>Documentation for LogisticRegression</span></a><span class=\"sk-estimator-doc-link fitted\">i<span>Fitted</span></span></label><div class=\"sk-toggleable__content fitted\"><pre>LogisticRegression()</pre></div> </div></div></div></div>"
            ]
          },
          "metadata": {},
          "execution_count": 19
        }
      ],
      "source": [
        "from sklearn.model_selection import train_test_split\n",
        "from sklearn.linear_model import LogisticRegression\n",
        "\n",
        "# Prepare data\n",
        "X = df[iris.feature_names]\n",
        "y = df['target']\n",
        "\n",
        "# Split data\n",
        "X_train, X_test, y_train, y_test = train_test_split(X, y, test_size=0.2, random_state=42)\n",
        "\n",
        "# Create and train model\n",
        "model = LogisticRegression()\n",
        "model.fit(X_train, y_train)"
      ]
    },
    {
      "cell_type": "markdown",
      "metadata": {
        "id": "jfEnpj6rcYO6"
      },
      "source": [
        "\n",
        "### 4. Evaluation\n",
        "\n",
        "Evaluating a model’s performance is essential to ensure it generalizes well to new data. The choice of evaluation metrics depends on the type of problem.\n",
        "\n",
        "- **Example**: In the iris classification model, we might check accuracy to see how well we identify flower species overall, and precision/recall to ensure we're correctly identifying each individual species without mixing them up."
      ]
    },
    {
      "cell_type": "code",
      "execution_count": null,
      "metadata": {
        "id": "fnTqOPLTcYO6",
        "outputId": "cd088879-c179-42e6-96b0-3b2011500e53",
        "colab": {
          "base_uri": "https://localhost:8080/"
        }
      },
      "outputs": [
        {
          "output_type": "stream",
          "name": "stdout",
          "text": [
            "Accuracy: 1.0\n",
            "\n",
            "Classification Report:\n",
            "              precision    recall  f1-score   support\n",
            "\n",
            "           0       1.00      1.00      1.00        10\n",
            "           1       1.00      1.00      1.00         9\n",
            "           2       1.00      1.00      1.00        11\n",
            "\n",
            "    accuracy                           1.00        30\n",
            "   macro avg       1.00      1.00      1.00        30\n",
            "weighted avg       1.00      1.00      1.00        30\n",
            "\n"
          ]
        }
      ],
      "source": [
        "from sklearn.metrics import accuracy_score, classification_report\n",
        "\n",
        "# Make predictions\n",
        "y_pred = model.predict(X_test)\n",
        "\n",
        "# Evaluate\n",
        "print(\"Accuracy:\", accuracy_score(y_test, y_pred))\n",
        "print(\"\\nClassification Report:\")\n",
        "print(classification_report(y_test, y_pred))"
      ]
    },
    {
      "cell_type": "markdown",
      "metadata": {
        "id": "eZYegoShcYO7"
      },
      "source": [
        "### 5. Model Deployment\n",
        "\n",
        "After a model achieves satisfactory performance, it can be deployed to make predictions on real-world data. Deployment may involve integrating the model into applications, such as web apps, mobile apps, or even wearable devices.\n",
        "\n",
        "- **Options for Deployment**:\n",
        "  - **Cloud Deployment**: Using cloud services like AWS SageMaker or Google Cloud AI for scalability and accessibility.\n",
        "  - **Edge Deployment**: Deploying on edge devices, like mobile phones or IoT devices, which can be helpful for wearable health monitoring.\n",
        "\n",
        "- **Example**: A deployed iris classification model could be integrated into a botanical garden's mobile app, where it helps visitors identify iris species by taking photos and analyzing the flower's measurements in real-time."
      ]
    },
    {
      "cell_type": "markdown",
      "metadata": {
        "id": "mgrgD4JvcYO7"
      },
      "source": [
        "### ✏️**Exercise**: Parkinson's Disease Classification\n",
        "\n",
        "In this exercise, you'll work with a real medical dataset from OpenML to predict Parkinson's disease based on various biomedical voice measurements. The dataset contains voice recordings from 31 people, 23 with Parkinson's disease.\n",
        "**Tasks:**\n",
        "1. Explore the Parkinson's dataset that we've loaded using `fetch_openml`\n",
        "2. Preprocess the data:\n",
        "   - Split into training and test sets\n",
        "   - Scale the features using StandardScaler\n",
        "3. Train and evaluate two models:\n",
        "   - Logistic Regression\n",
        "   - MLPClassifier (Neural Network)\n",
        "4. Compare the performance of both models using:\n",
        "   - Accuracy\n",
        "   - Classification report (precision, recall, f1-score)\n",
        "5. Bonus: Try tuning the hyperparameters of the MLPClassifier to improve performance\n"
      ]
    },
    {
      "cell_type": "code",
      "execution_count": null,
      "metadata": {
        "id": "OItN8feZcYO7"
      },
      "outputs": [],
      "source": [
        "# Import necessary libraries\n",
        "import numpy as np\n",
        "import pandas as pd\n",
        "from sklearn.datasets import fetch_openml\n",
        "from sklearn.model_selection import train_test_split\n",
        "from sklearn.preprocessing import StandardScaler\n",
        "from sklearn.neural_network import MLPClassifier\n",
        "from sklearn.metrics import accuracy_score, classification_report, roc_curve, auc"
      ]
    },
    {
      "cell_type": "code",
      "execution_count": null,
      "metadata": {
        "id": "LszP-9ZEcYO7",
        "outputId": "b41f868c-60bc-4e11-c486-6e525af10e3b",
        "colab": {
          "base_uri": "https://localhost:8080/"
        }
      },
      "outputs": [
        {
          "output_type": "stream",
          "name": "stdout",
          "text": [
            "Dataset shape: (195, 22)\n",
            "Features: ['V1', 'V2', 'V3', 'V4', 'V5', 'V6', 'V7', 'V8', 'V9', 'V10', 'V11', 'V12', 'V13', 'V14', 'V15', 'V16', 'V17', 'V18', 'V19', 'V20', 'V21', 'V22']\n"
          ]
        }
      ],
      "source": [
        "# Load Parkinson's dataset\n",
        "# This might take a moment to download\n",
        "X, y = fetch_openml(data_id=1488, return_X_y=True, as_frame=True)\n",
        "print(f\"Dataset shape: {X.shape}\")\n",
        "print(f\"Features: {X.columns.tolist()}\")"
      ]
    },
    {
      "cell_type": "code",
      "execution_count": null,
      "metadata": {
        "id": "gIhjvTYpcYO7",
        "outputId": "f4d649b4-578d-4fbd-fbb4-74f8468f4ce3",
        "colab": {
          "base_uri": "https://localhost:8080/",
          "height": 617
        }
      },
      "outputs": [
        {
          "output_type": "display_data",
          "data": {
            "text/html": [
              "<html>\n",
              "<head><meta charset=\"utf-8\" /></head>\n",
              "<body>\n",
              "    <div>            <script src=\"https://cdnjs.cloudflare.com/ajax/libs/mathjax/2.7.5/MathJax.js?config=TeX-AMS-MML_SVG\"></script><script type=\"text/javascript\">if (window.MathJax && window.MathJax.Hub && window.MathJax.Hub.Config) {window.MathJax.Hub.Config({SVG: {font: \"STIX-Web\"}});}</script>                <script type=\"text/javascript\">window.PlotlyConfig = {MathJaxConfig: 'local'};</script>\n",
              "        <script charset=\"utf-8\" src=\"https://cdn.plot.ly/plotly-2.35.2.min.js\"></script>                <div id=\"e3d2f6dd-162c-489d-bab9-cd14bd5ca2bf\" class=\"plotly-graph-div\" style=\"height:600px; width:750px;\"></div>            <script type=\"text/javascript\">                                    window.PLOTLYENV=window.PLOTLYENV || {};                                    if (document.getElementById(\"e3d2f6dd-162c-489d-bab9-cd14bd5ca2bf\")) {                    Plotly.newPlot(                        \"e3d2f6dd-162c-489d-bab9-cd14bd5ca2bf\",                        [{\"marker\":{\"color\":[1,1,1,1,1,1,1,1,1,1,1,1,1,1,1,1,1,1,1,1,1,1,1,1,1,1,1,1,1,1,0,0,0,0,0,0,1,1,1,1,1,1,0,0,0,0,0,0,0,0,0,0,0,0,1,1,1,1,1,1,0,0,0,0,0,0,1,1,1,1,1,1,1,1,1,1,1,1,1,1,1,1,1,1,1,1,1,1,1,1,1,1,1,1,1,1,1,1,1,1,1,1,1,1,1,1,1,1,1,1,1,1,1,1,1,1,1,1,1,1,1,1,1,1,1,1,1,1,1,1,1,1,1,1,1,1,1,1,1,1,1,1,1,1,1,1,1,1,1,1,1,1,1,1,1,1,1,1,1,1,1,1,1,1,1,0,0,0,0,0,0,0,0,0,0,0,0,1,1,1,1,1,1,0,0,0,0,0,0,0,0,0,0,0,0],\"colorscale\":[[0.0,\"#440154\"],[0.1111111111111111,\"#482878\"],[0.2222222222222222,\"#3e4989\"],[0.3333333333333333,\"#31688e\"],[0.4444444444444444,\"#26828e\"],[0.5555555555555556,\"#1f9e89\"],[0.6666666666666666,\"#35b779\"],[0.7777777777777778,\"#6ece58\"],[0.8888888888888888,\"#b5de2b\"],[1.0,\"#fde725\"]]},\"mode\":\"markers\",\"showlegend\":false,\"x\":[119.992,122.4,116.682,116.676,116.014,120.552,120.267,107.332,95.73,95.056,88.333,91.904,136.926,139.173,152.845,142.167,144.188,168.778,153.046,156.405,153.848,153.88,167.93,173.917,163.656,104.4,171.041,146.845,155.358,162.568,197.076,199.228,198.383,202.266,203.184,201.464,177.876,176.17,180.198,187.733,186.163,184.055,237.226,241.404,243.439,242.852,245.51,252.455,122.188,122.964,124.445,126.344,128.001,129.336,108.807,109.86,110.417,117.274,116.879,114.847,209.144,223.365,222.236,228.832,229.401,228.969,140.341,136.969,143.533,148.09,142.729,136.358,120.08,112.014,110.793,110.707,112.876,110.568,95.385,100.77,96.106,95.605,100.96,98.804,176.858,180.978,178.222,176.281,173.898,179.711,166.605,151.955,148.272,152.125,157.821,157.447,159.116,125.036,125.791,126.512,125.641,128.451,139.224,150.258,154.003,149.689,155.078,151.884,151.989,193.03,200.714,208.519,204.664,210.141,206.327,151.872,158.219,170.756,178.285,217.116,128.94,176.824,138.19,182.018,156.239,145.174,138.145,166.888,119.031,120.078,120.289,120.256,119.056,118.747,106.516,110.453,113.4,113.166,112.239,116.15,170.368,208.083,198.458,202.805,202.544,223.361,169.774,183.52,188.62,202.632,186.695,192.818,198.116,121.345,119.1,117.87,122.336,117.963,126.144,127.93,114.238,115.322,114.554,112.15,102.273,236.2,237.323,260.105,197.569,240.301,244.99,112.547,110.739,113.715,117.004,115.38,116.388,151.737,148.79,148.143,150.44,148.462,149.818,117.226,116.848,116.286,116.556,116.342,114.563,201.774,174.188,209.516,174.688,198.764,214.289],\"y\":[157.302,148.65,131.111,137.871,141.781,131.162,137.244,113.84,132.068,120.103,112.24,115.871,159.866,179.139,163.305,217.455,349.259,232.181,175.829,189.398,165.738,172.86,193.221,192.735,200.841,206.002,208.313,208.701,227.383,198.346,206.896,209.512,215.203,211.604,211.526,210.565,192.921,185.604,201.249,202.324,197.724,196.537,247.326,248.834,250.912,255.034,262.09,261.487,128.611,130.049,135.069,134.231,138.052,139.867,134.656,126.358,131.067,129.916,131.897,271.314,237.494,238.987,231.345,234.619,252.221,239.541,159.774,166.607,162.215,162.824,162.408,176.595,139.71,588.518,128.101,122.611,148.826,125.394,102.145,115.697,108.664,107.715,110.019,102.305,205.56,200.125,202.45,227.381,211.35,225.93,206.008,163.335,164.989,161.469,172.975,163.267,168.913,143.946,140.557,141.756,141.068,150.449,586.567,154.609,160.267,160.368,163.736,157.765,157.339,208.9,223.982,220.315,221.3,232.706,226.355,492.892,442.557,450.247,442.824,233.481,479.697,215.293,203.522,197.173,195.107,198.109,197.238,198.966,127.533,126.632,128.143,125.306,125.213,123.723,112.777,127.611,133.344,130.27,126.609,131.731,268.796,253.792,219.29,231.508,241.35,263.872,191.759,216.814,216.302,565.74,211.961,224.429,233.099,139.644,128.442,127.349,142.369,134.209,154.284,138.752,124.393,135.738,126.778,131.669,142.83,244.663,243.709,264.919,217.627,245.135,272.21,133.374,113.597,116.443,144.466,123.109,129.038,190.204,158.359,155.982,163.441,161.078,163.417,123.925,217.552,177.291,592.03,581.289,119.167,262.707,230.978,253.017,240.005,396.961,260.277],\"type\":\"scatter\",\"xaxis\":\"x\",\"yaxis\":\"y\"},{\"marker\":{\"color\":[1,1,1,1,1,1,1,1,1,1,1,1,1,1,1,1,1,1,1,1,1,1,1,1,1,1,1,1,1,1,0,0,0,0,0,0,1,1,1,1,1,1,0,0,0,0,0,0,0,0,0,0,0,0,1,1,1,1,1,1,0,0,0,0,0,0,1,1,1,1,1,1,1,1,1,1,1,1,1,1,1,1,1,1,1,1,1,1,1,1,1,1,1,1,1,1,1,1,1,1,1,1,1,1,1,1,1,1,1,1,1,1,1,1,1,1,1,1,1,1,1,1,1,1,1,1,1,1,1,1,1,1,1,1,1,1,1,1,1,1,1,1,1,1,1,1,1,1,1,1,1,1,1,1,1,1,1,1,1,1,1,1,1,1,1,0,0,0,0,0,0,0,0,0,0,0,0,1,1,1,1,1,1,0,0,0,0,0,0,0,0,0,0,0,0],\"colorscale\":[[0.0,\"#440154\"],[0.1111111111111111,\"#482878\"],[0.2222222222222222,\"#3e4989\"],[0.3333333333333333,\"#31688e\"],[0.4444444444444444,\"#26828e\"],[0.5555555555555556,\"#1f9e89\"],[0.6666666666666666,\"#35b779\"],[0.7777777777777778,\"#6ece58\"],[0.8888888888888888,\"#b5de2b\"],[1.0,\"#fde725\"]]},\"mode\":\"markers\",\"showlegend\":false,\"x\":[157.302,148.65,131.111,137.871,141.781,131.162,137.244,113.84,132.068,120.103,112.24,115.871,159.866,179.139,163.305,217.455,349.259,232.181,175.829,189.398,165.738,172.86,193.221,192.735,200.841,206.002,208.313,208.701,227.383,198.346,206.896,209.512,215.203,211.604,211.526,210.565,192.921,185.604,201.249,202.324,197.724,196.537,247.326,248.834,250.912,255.034,262.09,261.487,128.611,130.049,135.069,134.231,138.052,139.867,134.656,126.358,131.067,129.916,131.897,271.314,237.494,238.987,231.345,234.619,252.221,239.541,159.774,166.607,162.215,162.824,162.408,176.595,139.71,588.518,128.101,122.611,148.826,125.394,102.145,115.697,108.664,107.715,110.019,102.305,205.56,200.125,202.45,227.381,211.35,225.93,206.008,163.335,164.989,161.469,172.975,163.267,168.913,143.946,140.557,141.756,141.068,150.449,586.567,154.609,160.267,160.368,163.736,157.765,157.339,208.9,223.982,220.315,221.3,232.706,226.355,492.892,442.557,450.247,442.824,233.481,479.697,215.293,203.522,197.173,195.107,198.109,197.238,198.966,127.533,126.632,128.143,125.306,125.213,123.723,112.777,127.611,133.344,130.27,126.609,131.731,268.796,253.792,219.29,231.508,241.35,263.872,191.759,216.814,216.302,565.74,211.961,224.429,233.099,139.644,128.442,127.349,142.369,134.209,154.284,138.752,124.393,135.738,126.778,131.669,142.83,244.663,243.709,264.919,217.627,245.135,272.21,133.374,113.597,116.443,144.466,123.109,129.038,190.204,158.359,155.982,163.441,161.078,163.417,123.925,217.552,177.291,592.03,581.289,119.167,262.707,230.978,253.017,240.005,396.961,260.277],\"y\":[74.997,113.819,111.555,111.366,110.655,113.787,114.82,104.315,91.754,91.226,84.072,86.292,131.276,76.556,75.836,83.159,82.764,75.603,68.623,142.822,65.782,78.128,79.068,86.18,76.779,77.968,75.501,81.737,80.055,77.63,192.055,192.091,193.104,197.079,196.16,195.708,168.013,163.564,175.456,173.015,177.584,166.977,225.227,232.483,232.435,227.911,231.848,182.786,115.765,114.676,117.495,112.773,122.08,118.604,102.874,104.437,103.37,110.402,108.153,104.68,109.379,98.664,205.495,223.634,221.156,113.201,67.021,66.004,65.809,67.343,65.476,65.75,111.208,107.024,107.316,105.007,106.981,106.821,90.264,85.545,84.51,87.549,95.628,87.804,75.344,155.495,141.047,125.61,74.677,144.878,78.032,147.226,142.299,76.596,68.401,149.605,144.811,116.187,96.206,99.77,116.346,75.632,66.157,75.349,128.621,133.608,144.148,133.751,132.857,80.297,89.686,199.02,189.621,185.258,92.02,69.085,71.948,79.032,82.063,93.978,88.251,83.961,83.34,79.187,79.82,80.637,81.114,79.512,109.216,105.667,100.209,104.773,86.795,109.836,93.105,105.554,107.816,100.673,104.095,109.815,79.543,91.802,148.691,86.232,164.168,87.638,151.451,161.34,165.982,177.258,149.442,168.793,174.478,98.25,88.833,95.654,94.794,100.757,97.543,112.173,77.022,107.802,91.121,97.527,85.902,102.137,229.256,237.303,90.794,219.783,239.17,105.715,100.139,96.913,99.923,108.634,108.97,129.859,138.99,135.041,144.736,141.998,144.786,106.656,99.503,96.983,86.228,94.246,86.647,78.228,94.261,89.488,74.287,74.904,77.973],\"type\":\"scatter\",\"xaxis\":\"x2\",\"yaxis\":\"y2\"},{\"marker\":{\"color\":[1,1,1,1,1,1,1,1,1,1,1,1,1,1,1,1,1,1,1,1,1,1,1,1,1,1,1,1,1,1,0,0,0,0,0,0,1,1,1,1,1,1,0,0,0,0,0,0,0,0,0,0,0,0,1,1,1,1,1,1,0,0,0,0,0,0,1,1,1,1,1,1,1,1,1,1,1,1,1,1,1,1,1,1,1,1,1,1,1,1,1,1,1,1,1,1,1,1,1,1,1,1,1,1,1,1,1,1,1,1,1,1,1,1,1,1,1,1,1,1,1,1,1,1,1,1,1,1,1,1,1,1,1,1,1,1,1,1,1,1,1,1,1,1,1,1,1,1,1,1,1,1,1,1,1,1,1,1,1,1,1,1,1,1,1,0,0,0,0,0,0,0,0,0,0,0,0,1,1,1,1,1,1,0,0,0,0,0,0,0,0,0,0,0,0],\"colorscale\":[[0.0,\"#440154\"],[0.1111111111111111,\"#482878\"],[0.2222222222222222,\"#3e4989\"],[0.3333333333333333,\"#31688e\"],[0.4444444444444444,\"#26828e\"],[0.5555555555555556,\"#1f9e89\"],[0.6666666666666666,\"#35b779\"],[0.7777777777777778,\"#6ece58\"],[0.8888888888888888,\"#b5de2b\"],[1.0,\"#fde725\"]]},\"mode\":\"markers\",\"showlegend\":false,\"x\":[74.997,113.819,111.555,111.366,110.655,113.787,114.82,104.315,91.754,91.226,84.072,86.292,131.276,76.556,75.836,83.159,82.764,75.603,68.623,142.822,65.782,78.128,79.068,86.18,76.779,77.968,75.501,81.737,80.055,77.63,192.055,192.091,193.104,197.079,196.16,195.708,168.013,163.564,175.456,173.015,177.584,166.977,225.227,232.483,232.435,227.911,231.848,182.786,115.765,114.676,117.495,112.773,122.08,118.604,102.874,104.437,103.37,110.402,108.153,104.68,109.379,98.664,205.495,223.634,221.156,113.201,67.021,66.004,65.809,67.343,65.476,65.75,111.208,107.024,107.316,105.007,106.981,106.821,90.264,85.545,84.51,87.549,95.628,87.804,75.344,155.495,141.047,125.61,74.677,144.878,78.032,147.226,142.299,76.596,68.401,149.605,144.811,116.187,96.206,99.77,116.346,75.632,66.157,75.349,128.621,133.608,144.148,133.751,132.857,80.297,89.686,199.02,189.621,185.258,92.02,69.085,71.948,79.032,82.063,93.978,88.251,83.961,83.34,79.187,79.82,80.637,81.114,79.512,109.216,105.667,100.209,104.773,86.795,109.836,93.105,105.554,107.816,100.673,104.095,109.815,79.543,91.802,148.691,86.232,164.168,87.638,151.451,161.34,165.982,177.258,149.442,168.793,174.478,98.25,88.833,95.654,94.794,100.757,97.543,112.173,77.022,107.802,91.121,97.527,85.902,102.137,229.256,237.303,90.794,219.783,239.17,105.715,100.139,96.913,99.923,108.634,108.97,129.859,138.99,135.041,144.736,141.998,144.786,106.656,99.503,96.983,86.228,94.246,86.647,78.228,94.261,89.488,74.287,74.904,77.973],\"y\":[0.00784,0.00968,0.0105,0.00997,0.01284,0.00968,0.00333,0.0029,0.00551,0.00532,0.00505,0.0054,0.00293,0.0039,0.00294,0.00369,0.00544,0.00718,0.00742,0.00768,0.0084,0.0048,0.00442,0.00476,0.00742,0.00633,0.00455,0.00496,0.0031,0.00502,0.00289,0.00241,0.00212,0.0018,0.00178,0.00198,0.00411,0.00369,0.00284,0.00316,0.00298,0.00258,0.00298,0.00281,0.0021,0.00225,0.00235,0.00185,0.00524,0.00428,0.00431,0.00448,0.00436,0.0049,0.00761,0.00874,0.00784,0.00752,0.00788,0.00867,0.00282,0.00264,0.00266,0.00296,0.00205,0.00238,0.00817,0.00923,0.01101,0.00762,0.00831,0.00971,0.00405,0.00533,0.00494,0.00516,0.005,0.00462,0.00608,0.01038,0.00694,0.00702,0.00606,0.00432,0.00747,0.00406,0.00321,0.0052,0.00448,0.00709,0.00742,0.00419,0.00459,0.00382,0.00358,0.00369,0.00342,0.0128,0.01378,0.01936,0.03316,0.01551,0.03011,0.00248,0.00183,0.00257,0.00168,0.00258,0.00174,0.00766,0.00621,0.00609,0.00841,0.00534,0.00495,0.00856,0.00476,0.00555,0.00462,0.00404,0.00581,0.0046,0.00704,0.00842,0.00694,0.00733,0.00544,0.00638,0.0044,0.0027,0.00492,0.00407,0.00346,0.00331,0.00589,0.00494,0.00451,0.00502,0.00472,0.00381,0.00571,0.00757,0.00376,0.0037,0.00254,0.00352,0.01568,0.01466,0.01719,0.01627,0.01872,0.03107,0.02714,0.00684,0.00692,0.00647,0.00727,0.01813,0.00975,0.00605,0.00581,0.00619,0.00651,0.00519,0.00907,0.00277,0.00303,0.00339,0.00803,0.00517,0.00451,0.00355,0.00356,0.00349,0.00353,0.00332,0.00346,0.00314,0.00309,0.00392,0.00396,0.00397,0.00336,0.00417,0.00531,0.00314,0.00496,0.00267,0.00327,0.00694,0.00459,0.00564,0.0136,0.0074,0.00567],\"type\":\"scatter\",\"xaxis\":\"x3\",\"yaxis\":\"y3\"},{\"marker\":{\"color\":[1,1,1,1,1,1,1,1,1,1,1,1,1,1,1,1,1,1,1,1,1,1,1,1,1,1,1,1,1,1,0,0,0,0,0,0,1,1,1,1,1,1,0,0,0,0,0,0,0,0,0,0,0,0,1,1,1,1,1,1,0,0,0,0,0,0,1,1,1,1,1,1,1,1,1,1,1,1,1,1,1,1,1,1,1,1,1,1,1,1,1,1,1,1,1,1,1,1,1,1,1,1,1,1,1,1,1,1,1,1,1,1,1,1,1,1,1,1,1,1,1,1,1,1,1,1,1,1,1,1,1,1,1,1,1,1,1,1,1,1,1,1,1,1,1,1,1,1,1,1,1,1,1,1,1,1,1,1,1,1,1,1,1,1,1,0,0,0,0,0,0,0,0,0,0,0,0,1,1,1,1,1,1,0,0,0,0,0,0,0,0,0,0,0,0],\"colorscale\":[[0.0,\"#440154\"],[0.1111111111111111,\"#482878\"],[0.2222222222222222,\"#3e4989\"],[0.3333333333333333,\"#31688e\"],[0.4444444444444444,\"#26828e\"],[0.5555555555555556,\"#1f9e89\"],[0.6666666666666666,\"#35b779\"],[0.7777777777777778,\"#6ece58\"],[0.8888888888888888,\"#b5de2b\"],[1.0,\"#fde725\"]]},\"mode\":\"markers\",\"showlegend\":false,\"x\":[0.00784,0.00968,0.0105,0.00997,0.01284,0.00968,0.00333,0.0029,0.00551,0.00532,0.00505,0.0054,0.00293,0.0039,0.00294,0.00369,0.00544,0.00718,0.00742,0.00768,0.0084,0.0048,0.00442,0.00476,0.00742,0.00633,0.00455,0.00496,0.0031,0.00502,0.00289,0.00241,0.00212,0.0018,0.00178,0.00198,0.00411,0.00369,0.00284,0.00316,0.00298,0.00258,0.00298,0.00281,0.0021,0.00225,0.00235,0.00185,0.00524,0.00428,0.00431,0.00448,0.00436,0.0049,0.00761,0.00874,0.00784,0.00752,0.00788,0.00867,0.00282,0.00264,0.00266,0.00296,0.00205,0.00238,0.00817,0.00923,0.01101,0.00762,0.00831,0.00971,0.00405,0.00533,0.00494,0.00516,0.005,0.00462,0.00608,0.01038,0.00694,0.00702,0.00606,0.00432,0.00747,0.00406,0.00321,0.0052,0.00448,0.00709,0.00742,0.00419,0.00459,0.00382,0.00358,0.00369,0.00342,0.0128,0.01378,0.01936,0.03316,0.01551,0.03011,0.00248,0.00183,0.00257,0.00168,0.00258,0.00174,0.00766,0.00621,0.00609,0.00841,0.00534,0.00495,0.00856,0.00476,0.00555,0.00462,0.00404,0.00581,0.0046,0.00704,0.00842,0.00694,0.00733,0.00544,0.00638,0.0044,0.0027,0.00492,0.00407,0.00346,0.00331,0.00589,0.00494,0.00451,0.00502,0.00472,0.00381,0.00571,0.00757,0.00376,0.0037,0.00254,0.00352,0.01568,0.01466,0.01719,0.01627,0.01872,0.03107,0.02714,0.00684,0.00692,0.00647,0.00727,0.01813,0.00975,0.00605,0.00581,0.00619,0.00651,0.00519,0.00907,0.00277,0.00303,0.00339,0.00803,0.00517,0.00451,0.00355,0.00356,0.00349,0.00353,0.00332,0.00346,0.00314,0.00309,0.00392,0.00396,0.00397,0.00336,0.00417,0.00531,0.00314,0.00496,0.00267,0.00327,0.00694,0.00459,0.00564,0.0136,0.0074,0.00567],\"y\":[119.992,122.4,116.682,116.676,116.014,120.552,120.267,107.332,95.73,95.056,88.333,91.904,136.926,139.173,152.845,142.167,144.188,168.778,153.046,156.405,153.848,153.88,167.93,173.917,163.656,104.4,171.041,146.845,155.358,162.568,197.076,199.228,198.383,202.266,203.184,201.464,177.876,176.17,180.198,187.733,186.163,184.055,237.226,241.404,243.439,242.852,245.51,252.455,122.188,122.964,124.445,126.344,128.001,129.336,108.807,109.86,110.417,117.274,116.879,114.847,209.144,223.365,222.236,228.832,229.401,228.969,140.341,136.969,143.533,148.09,142.729,136.358,120.08,112.014,110.793,110.707,112.876,110.568,95.385,100.77,96.106,95.605,100.96,98.804,176.858,180.978,178.222,176.281,173.898,179.711,166.605,151.955,148.272,152.125,157.821,157.447,159.116,125.036,125.791,126.512,125.641,128.451,139.224,150.258,154.003,149.689,155.078,151.884,151.989,193.03,200.714,208.519,204.664,210.141,206.327,151.872,158.219,170.756,178.285,217.116,128.94,176.824,138.19,182.018,156.239,145.174,138.145,166.888,119.031,120.078,120.289,120.256,119.056,118.747,106.516,110.453,113.4,113.166,112.239,116.15,170.368,208.083,198.458,202.805,202.544,223.361,169.774,183.52,188.62,202.632,186.695,192.818,198.116,121.345,119.1,117.87,122.336,117.963,126.144,127.93,114.238,115.322,114.554,112.15,102.273,236.2,237.323,260.105,197.569,240.301,244.99,112.547,110.739,113.715,117.004,115.38,116.388,151.737,148.79,148.143,150.44,148.462,149.818,117.226,116.848,116.286,116.556,116.342,114.563,201.774,174.188,209.516,174.688,198.764,214.289],\"type\":\"scatter\",\"xaxis\":\"x4\",\"yaxis\":\"y4\"}],                        {\"template\":{\"data\":{\"histogram2dcontour\":[{\"type\":\"histogram2dcontour\",\"colorbar\":{\"outlinewidth\":0,\"ticks\":\"\"},\"colorscale\":[[0.0,\"#0d0887\"],[0.1111111111111111,\"#46039f\"],[0.2222222222222222,\"#7201a8\"],[0.3333333333333333,\"#9c179e\"],[0.4444444444444444,\"#bd3786\"],[0.5555555555555556,\"#d8576b\"],[0.6666666666666666,\"#ed7953\"],[0.7777777777777778,\"#fb9f3a\"],[0.8888888888888888,\"#fdca26\"],[1.0,\"#f0f921\"]]}],\"choropleth\":[{\"type\":\"choropleth\",\"colorbar\":{\"outlinewidth\":0,\"ticks\":\"\"}}],\"histogram2d\":[{\"type\":\"histogram2d\",\"colorbar\":{\"outlinewidth\":0,\"ticks\":\"\"},\"colorscale\":[[0.0,\"#0d0887\"],[0.1111111111111111,\"#46039f\"],[0.2222222222222222,\"#7201a8\"],[0.3333333333333333,\"#9c179e\"],[0.4444444444444444,\"#bd3786\"],[0.5555555555555556,\"#d8576b\"],[0.6666666666666666,\"#ed7953\"],[0.7777777777777778,\"#fb9f3a\"],[0.8888888888888888,\"#fdca26\"],[1.0,\"#f0f921\"]]}],\"heatmap\":[{\"type\":\"heatmap\",\"colorbar\":{\"outlinewidth\":0,\"ticks\":\"\"},\"colorscale\":[[0.0,\"#0d0887\"],[0.1111111111111111,\"#46039f\"],[0.2222222222222222,\"#7201a8\"],[0.3333333333333333,\"#9c179e\"],[0.4444444444444444,\"#bd3786\"],[0.5555555555555556,\"#d8576b\"],[0.6666666666666666,\"#ed7953\"],[0.7777777777777778,\"#fb9f3a\"],[0.8888888888888888,\"#fdca26\"],[1.0,\"#f0f921\"]]}],\"heatmapgl\":[{\"type\":\"heatmapgl\",\"colorbar\":{\"outlinewidth\":0,\"ticks\":\"\"},\"colorscale\":[[0.0,\"#0d0887\"],[0.1111111111111111,\"#46039f\"],[0.2222222222222222,\"#7201a8\"],[0.3333333333333333,\"#9c179e\"],[0.4444444444444444,\"#bd3786\"],[0.5555555555555556,\"#d8576b\"],[0.6666666666666666,\"#ed7953\"],[0.7777777777777778,\"#fb9f3a\"],[0.8888888888888888,\"#fdca26\"],[1.0,\"#f0f921\"]]}],\"contourcarpet\":[{\"type\":\"contourcarpet\",\"colorbar\":{\"outlinewidth\":0,\"ticks\":\"\"}}],\"contour\":[{\"type\":\"contour\",\"colorbar\":{\"outlinewidth\":0,\"ticks\":\"\"},\"colorscale\":[[0.0,\"#0d0887\"],[0.1111111111111111,\"#46039f\"],[0.2222222222222222,\"#7201a8\"],[0.3333333333333333,\"#9c179e\"],[0.4444444444444444,\"#bd3786\"],[0.5555555555555556,\"#d8576b\"],[0.6666666666666666,\"#ed7953\"],[0.7777777777777778,\"#fb9f3a\"],[0.8888888888888888,\"#fdca26\"],[1.0,\"#f0f921\"]]}],\"surface\":[{\"type\":\"surface\",\"colorbar\":{\"outlinewidth\":0,\"ticks\":\"\"},\"colorscale\":[[0.0,\"#0d0887\"],[0.1111111111111111,\"#46039f\"],[0.2222222222222222,\"#7201a8\"],[0.3333333333333333,\"#9c179e\"],[0.4444444444444444,\"#bd3786\"],[0.5555555555555556,\"#d8576b\"],[0.6666666666666666,\"#ed7953\"],[0.7777777777777778,\"#fb9f3a\"],[0.8888888888888888,\"#fdca26\"],[1.0,\"#f0f921\"]]}],\"mesh3d\":[{\"type\":\"mesh3d\",\"colorbar\":{\"outlinewidth\":0,\"ticks\":\"\"}}],\"scatter\":[{\"fillpattern\":{\"fillmode\":\"overlay\",\"size\":10,\"solidity\":0.2},\"type\":\"scatter\"}],\"parcoords\":[{\"type\":\"parcoords\",\"line\":{\"colorbar\":{\"outlinewidth\":0,\"ticks\":\"\"}}}],\"scatterpolargl\":[{\"type\":\"scatterpolargl\",\"marker\":{\"colorbar\":{\"outlinewidth\":0,\"ticks\":\"\"}}}],\"bar\":[{\"error_x\":{\"color\":\"#2a3f5f\"},\"error_y\":{\"color\":\"#2a3f5f\"},\"marker\":{\"line\":{\"color\":\"#E5ECF6\",\"width\":0.5},\"pattern\":{\"fillmode\":\"overlay\",\"size\":10,\"solidity\":0.2}},\"type\":\"bar\"}],\"scattergeo\":[{\"type\":\"scattergeo\",\"marker\":{\"colorbar\":{\"outlinewidth\":0,\"ticks\":\"\"}}}],\"scatterpolar\":[{\"type\":\"scatterpolar\",\"marker\":{\"colorbar\":{\"outlinewidth\":0,\"ticks\":\"\"}}}],\"histogram\":[{\"marker\":{\"pattern\":{\"fillmode\":\"overlay\",\"size\":10,\"solidity\":0.2}},\"type\":\"histogram\"}],\"scattergl\":[{\"type\":\"scattergl\",\"marker\":{\"colorbar\":{\"outlinewidth\":0,\"ticks\":\"\"}}}],\"scatter3d\":[{\"type\":\"scatter3d\",\"line\":{\"colorbar\":{\"outlinewidth\":0,\"ticks\":\"\"}},\"marker\":{\"colorbar\":{\"outlinewidth\":0,\"ticks\":\"\"}}}],\"scattermapbox\":[{\"type\":\"scattermapbox\",\"marker\":{\"colorbar\":{\"outlinewidth\":0,\"ticks\":\"\"}}}],\"scatterternary\":[{\"type\":\"scatterternary\",\"marker\":{\"colorbar\":{\"outlinewidth\":0,\"ticks\":\"\"}}}],\"scattercarpet\":[{\"type\":\"scattercarpet\",\"marker\":{\"colorbar\":{\"outlinewidth\":0,\"ticks\":\"\"}}}],\"carpet\":[{\"aaxis\":{\"endlinecolor\":\"#2a3f5f\",\"gridcolor\":\"white\",\"linecolor\":\"white\",\"minorgridcolor\":\"white\",\"startlinecolor\":\"#2a3f5f\"},\"baxis\":{\"endlinecolor\":\"#2a3f5f\",\"gridcolor\":\"white\",\"linecolor\":\"white\",\"minorgridcolor\":\"white\",\"startlinecolor\":\"#2a3f5f\"},\"type\":\"carpet\"}],\"table\":[{\"cells\":{\"fill\":{\"color\":\"#EBF0F8\"},\"line\":{\"color\":\"white\"}},\"header\":{\"fill\":{\"color\":\"#C8D4E3\"},\"line\":{\"color\":\"white\"}},\"type\":\"table\"}],\"barpolar\":[{\"marker\":{\"line\":{\"color\":\"#E5ECF6\",\"width\":0.5},\"pattern\":{\"fillmode\":\"overlay\",\"size\":10,\"solidity\":0.2}},\"type\":\"barpolar\"}],\"pie\":[{\"automargin\":true,\"type\":\"pie\"}]},\"layout\":{\"autotypenumbers\":\"strict\",\"colorway\":[\"#636efa\",\"#EF553B\",\"#00cc96\",\"#ab63fa\",\"#FFA15A\",\"#19d3f3\",\"#FF6692\",\"#B6E880\",\"#FF97FF\",\"#FECB52\"],\"font\":{\"color\":\"#2a3f5f\"},\"hovermode\":\"closest\",\"hoverlabel\":{\"align\":\"left\"},\"paper_bgcolor\":\"white\",\"plot_bgcolor\":\"#E5ECF6\",\"polar\":{\"bgcolor\":\"#E5ECF6\",\"angularaxis\":{\"gridcolor\":\"white\",\"linecolor\":\"white\",\"ticks\":\"\"},\"radialaxis\":{\"gridcolor\":\"white\",\"linecolor\":\"white\",\"ticks\":\"\"}},\"ternary\":{\"bgcolor\":\"#E5ECF6\",\"aaxis\":{\"gridcolor\":\"white\",\"linecolor\":\"white\",\"ticks\":\"\"},\"baxis\":{\"gridcolor\":\"white\",\"linecolor\":\"white\",\"ticks\":\"\"},\"caxis\":{\"gridcolor\":\"white\",\"linecolor\":\"white\",\"ticks\":\"\"}},\"coloraxis\":{\"colorbar\":{\"outlinewidth\":0,\"ticks\":\"\"}},\"colorscale\":{\"sequential\":[[0.0,\"#0d0887\"],[0.1111111111111111,\"#46039f\"],[0.2222222222222222,\"#7201a8\"],[0.3333333333333333,\"#9c179e\"],[0.4444444444444444,\"#bd3786\"],[0.5555555555555556,\"#d8576b\"],[0.6666666666666666,\"#ed7953\"],[0.7777777777777778,\"#fb9f3a\"],[0.8888888888888888,\"#fdca26\"],[1.0,\"#f0f921\"]],\"sequentialminus\":[[0.0,\"#0d0887\"],[0.1111111111111111,\"#46039f\"],[0.2222222222222222,\"#7201a8\"],[0.3333333333333333,\"#9c179e\"],[0.4444444444444444,\"#bd3786\"],[0.5555555555555556,\"#d8576b\"],[0.6666666666666666,\"#ed7953\"],[0.7777777777777778,\"#fb9f3a\"],[0.8888888888888888,\"#fdca26\"],[1.0,\"#f0f921\"]],\"diverging\":[[0,\"#8e0152\"],[0.1,\"#c51b7d\"],[0.2,\"#de77ae\"],[0.3,\"#f1b6da\"],[0.4,\"#fde0ef\"],[0.5,\"#f7f7f7\"],[0.6,\"#e6f5d0\"],[0.7,\"#b8e186\"],[0.8,\"#7fbc41\"],[0.9,\"#4d9221\"],[1,\"#276419\"]]},\"xaxis\":{\"gridcolor\":\"white\",\"linecolor\":\"white\",\"ticks\":\"\",\"title\":{\"standoff\":15},\"zerolinecolor\":\"white\",\"automargin\":true,\"zerolinewidth\":2},\"yaxis\":{\"gridcolor\":\"white\",\"linecolor\":\"white\",\"ticks\":\"\",\"title\":{\"standoff\":15},\"zerolinecolor\":\"white\",\"automargin\":true,\"zerolinewidth\":2},\"scene\":{\"xaxis\":{\"backgroundcolor\":\"#E5ECF6\",\"gridcolor\":\"white\",\"linecolor\":\"white\",\"showbackground\":true,\"ticks\":\"\",\"zerolinecolor\":\"white\",\"gridwidth\":2},\"yaxis\":{\"backgroundcolor\":\"#E5ECF6\",\"gridcolor\":\"white\",\"linecolor\":\"white\",\"showbackground\":true,\"ticks\":\"\",\"zerolinecolor\":\"white\",\"gridwidth\":2},\"zaxis\":{\"backgroundcolor\":\"#E5ECF6\",\"gridcolor\":\"white\",\"linecolor\":\"white\",\"showbackground\":true,\"ticks\":\"\",\"zerolinecolor\":\"white\",\"gridwidth\":2}},\"shapedefaults\":{\"line\":{\"color\":\"#2a3f5f\"}},\"annotationdefaults\":{\"arrowcolor\":\"#2a3f5f\",\"arrowhead\":0,\"arrowwidth\":1},\"geo\":{\"bgcolor\":\"white\",\"landcolor\":\"#E5ECF6\",\"subunitcolor\":\"white\",\"showland\":true,\"showlakes\":true,\"lakecolor\":\"white\"},\"title\":{\"x\":0.05},\"mapbox\":{\"style\":\"light\"}}},\"xaxis\":{\"anchor\":\"y\",\"domain\":[0.0,0.45]},\"yaxis\":{\"anchor\":\"x\",\"domain\":[0.625,1.0],\"title\":{\"text\":\"V2\"}},\"xaxis2\":{\"anchor\":\"y2\",\"domain\":[0.55,1.0]},\"yaxis2\":{\"anchor\":\"x2\",\"domain\":[0.625,1.0],\"title\":{\"text\":\"V3\"}},\"xaxis3\":{\"anchor\":\"y3\",\"domain\":[0.0,0.45]},\"yaxis3\":{\"anchor\":\"x3\",\"domain\":[0.0,0.375],\"title\":{\"text\":\"V4\"}},\"xaxis4\":{\"anchor\":\"y4\",\"domain\":[0.55,1.0]},\"yaxis4\":{\"anchor\":\"x4\",\"domain\":[0.0,0.375],\"title\":{\"text\":\"V1\"}},\"annotations\":[{\"font\":{\"size\":16},\"showarrow\":false,\"text\":\"V1\",\"x\":0.225,\"xanchor\":\"center\",\"xref\":\"paper\",\"y\":1.0,\"yanchor\":\"bottom\",\"yref\":\"paper\"},{\"font\":{\"size\":16},\"showarrow\":false,\"text\":\"V2\",\"x\":0.775,\"xanchor\":\"center\",\"xref\":\"paper\",\"y\":1.0,\"yanchor\":\"bottom\",\"yref\":\"paper\"},{\"font\":{\"size\":16},\"showarrow\":false,\"text\":\"V3\",\"x\":0.225,\"xanchor\":\"center\",\"xref\":\"paper\",\"y\":0.375,\"yanchor\":\"bottom\",\"yref\":\"paper\"},{\"font\":{\"size\":16},\"showarrow\":false,\"text\":\"V4\",\"x\":0.775,\"xanchor\":\"center\",\"xref\":\"paper\",\"y\":0.375,\"yanchor\":\"bottom\",\"yref\":\"paper\"}],\"title\":{\"text\":\"Parkinson's Disease Features Visualization\"},\"height\":600,\"width\":750},                        {\"responsive\": true}                    ).then(function(){\n",
              "                            \n",
              "var gd = document.getElementById('e3d2f6dd-162c-489d-bab9-cd14bd5ca2bf');\n",
              "var x = new MutationObserver(function (mutations, observer) {{\n",
              "        var display = window.getComputedStyle(gd).display;\n",
              "        if (!display || display === 'none') {{\n",
              "            console.log([gd, 'removed!']);\n",
              "            Plotly.purge(gd);\n",
              "            observer.disconnect();\n",
              "        }}\n",
              "}});\n",
              "\n",
              "// Listen for the removal of the full notebook cells\n",
              "var notebookContainer = gd.closest('#notebook-container');\n",
              "if (notebookContainer) {{\n",
              "    x.observe(notebookContainer, {childList: true});\n",
              "}}\n",
              "\n",
              "// Listen for the clearing of the current output cell\n",
              "var outputEl = gd.closest('.output');\n",
              "if (outputEl) {{\n",
              "    x.observe(outputEl, {childList: true});\n",
              "}}\n",
              "\n",
              "                        })                };                            </script>        </div>\n",
              "</body>\n",
              "</html>"
            ]
          },
          "metadata": {}
        }
      ],
      "source": [
        "# 1. Data Visualization #\n",
        "# Create scatter plots of first few features\n",
        "# Load data\n",
        "X, y = fetch_openml(data_id=1488, return_X_y=True, as_frame=True)\n",
        "\n",
        "# Create scatter plots of first few features using plotly\n",
        "import plotly.express as px\n",
        "import plotly.graph_objects as go\n",
        "from plotly.subplots import make_subplots\n",
        "\n",
        "# Create subplots with 2 rows and 2 columns\n",
        "fig = make_subplots(rows=2, cols=2, subplot_titles=X.columns[:4])\n",
        "\n",
        "# Plot first 4 features against each other\n",
        "features = X.columns[:4]\n",
        "colors = y.astype('category').cat.codes\n",
        "\n",
        "for i in range(2):\n",
        "    for j in range(2):\n",
        "        idx = i*2 + j\n",
        "        fig.add_trace(\n",
        "            go.Scatter(x=X[features[idx]],\n",
        "                      y=X[features[(idx+1)%4]],\n",
        "                      mode='markers',\n",
        "                      marker=dict(color=colors, colorscale='Viridis'),\n",
        "                      showlegend=False),\n",
        "            row=i+1, col=j+1\n",
        "        )\n",
        "        # Update y-axis title for each subplot\n",
        "        fig.update_yaxes(title_text=features[(idx+1)%4], row=i+1, col=j+1)\n",
        "\n",
        "fig.update_layout(height=600, width=750, title_text=\"Parkinson's Disease Features Visualization\")\n",
        "fig.show()\n"
      ]
    },
    {
      "cell_type": "markdown",
      "metadata": {
        "id": "zi9JWeACcYO7"
      },
      "source": [
        "#### 2. Data Preprocessing\n",
        "\n",
        "* Since our features are on different scales, we need to standardize them to ensure each feature contributes equally to the model. We'll use StandardScaler to transform the features to have zero mean and unit variance.\n",
        "* Split the data into training and test sets, with an 80/20 split.\n"
      ]
    },
    {
      "cell_type": "code",
      "execution_count": null,
      "metadata": {
        "id": "np-RGwLTcYO8",
        "colab": {
          "base_uri": "https://localhost:8080/"
        },
        "outputId": "8325298d-045c-4584-f54f-4a38d2fff233"
      },
      "outputs": [
        {
          "output_type": "stream",
          "name": "stderr",
          "text": [
            "<ipython-input-50-3aca8b562844>:2: FutureWarning:\n",
            "\n",
            "Downcasting behavior in `replace` is deprecated and will be removed in a future version. To retain the old behavior, explicitly call `result.infer_objects(copy=False)`. To opt-in to the future behavior, set `pd.set_option('future.no_silent_downcasting', True)`\n",
            "\n",
            "<ipython-input-50-3aca8b562844>:2: FutureWarning:\n",
            "\n",
            "The behavior of Series.replace (and DataFrame.replace) with CategoricalDtype is deprecated. In a future version, replace will only be used for cases that preserve the categories. To change the categories, use ser.cat.rename_categories instead.\n",
            "\n"
          ]
        }
      ],
      "source": [
        "# Convert y to binary labels (0 and 1)\n",
        "y = y.replace({'1': 0, '2': 1}).astype(int)\n",
        "\n",
        "# Preprocess the data\n",
        "scaler = StandardScaler()\n",
        "X_scaled = scaler.fit_transform(X)\n",
        "X_train, X_test, y_train, y_test_binary = train_test_split(X_scaled, y, test_size=0.2, random_state=42)"
      ]
    },
    {
      "cell_type": "markdown",
      "metadata": {
        "id": "Wj3aDyTVcYO8"
      },
      "source": [
        "#### 3. Train two models:\n",
        " - [Logistic Regression](https://scikit-learn.org/stable/modules/generated/sklearn.linear_model.LogisticRegression.html)\n",
        " - [MLPClassifier](https://scikit-learn.org/stable/modules/generated/sklearn.neural_network.MLPClassifier.html)\n",
        "   - check out this interactive [demo](https://playground.tensorflow.org/#activation=sigmoid&batchSize=10&dataset=circle&regDataset=reg-plane&learningRate=0.03&regularizationRate=0&noise=0&networkShape=4&seed=0.91282&showTestData=false&discretize=false&percTrainData=50&x=true&y=true&xTimesY=false&xSquared=false&ySquared=false&cosX=false&sinX=false&cosY=false&sinY=false&collectStats=false&problem=classification&initZero=false&hideText=false) to learn more about  MLPs (also known as Neural Networks)\n",
        "\n",
        "#### 4. Compare the performance of both models using:\n",
        "* Report the f1-score, precision, and recall for each model.\n",
        "* Plot the confusion matrix and ROC curve for each model.\n"
      ]
    },
    {
      "cell_type": "code",
      "execution_count": null,
      "metadata": {
        "id": "qykrfI3qcYO8"
      },
      "outputs": [],
      "source": [
        "# Train and evaluate the Logistic Regression classifier\n",
        "# Logistic Regression Model\n",
        "log_reg = LogisticRegression(random_state=42)\n",
        "log_reg.fit(X_train, y_train)\n",
        "y_pred_log_reg = log_reg.predict(X_test)"
      ]
    },
    {
      "cell_type": "code",
      "execution_count": null,
      "metadata": {
        "id": "FkP0F1CXcYO8"
      },
      "outputs": [],
      "source": [
        "# Train and evaluate a Multi-Layer Perceptron (Neural Network)\n",
        "mlp = MLPClassifier(random_state=42, max_iter=1000)\n",
        "mlp.fit(X_train, y_train)\n",
        "y_pred_mlp = mlp.predict(X_test)"
      ]
    },
    {
      "cell_type": "code",
      "execution_count": null,
      "metadata": {
        "id": "tQoXSw3NcYPA",
        "colab": {
          "base_uri": "https://localhost:8080/",
          "height": 1000
        },
        "outputId": "2edb96b3-8d8c-4aa7-ef36-26e149663de1"
      },
      "outputs": [
        {
          "output_type": "stream",
          "name": "stdout",
          "text": [
            "Logistic Regression Accuracy: 0.90\n",
            "MLPClassifier Accuracy: 0.95\n",
            "Logistic Regression Classification Report:\n",
            "              precision    recall  f1-score   support\n",
            "\n",
            "           0       1.00      0.43      0.60         7\n",
            "           1       0.89      1.00      0.94        32\n",
            "\n",
            "    accuracy                           0.90        39\n",
            "   macro avg       0.94      0.71      0.77        39\n",
            "weighted avg       0.91      0.90      0.88        39\n",
            "\n",
            "MLPClassifier Classification Report:\n",
            "              precision    recall  f1-score   support\n",
            "\n",
            "           0       1.00      0.71      0.83         7\n",
            "           1       0.94      1.00      0.97        32\n",
            "\n",
            "    accuracy                           0.95        39\n",
            "   macro avg       0.97      0.86      0.90        39\n",
            "weighted avg       0.95      0.95      0.95        39\n",
            "\n"
          ]
        },
        {
          "output_type": "display_data",
          "data": {
            "text/plain": [
              "<Figure size 1400x1000 with 6 Axes>"
            ],
            "image/png": "[encoded data removed]"
          },
          "metadata": {}
        }
      ],
      "source": [
        "# 4. Performance Comparison #\n",
        "\n",
        "# Accuracy scores\n",
        "log_reg_accuracy = accuracy_score(y_test_binary, y_pred_log_reg)\n",
        "mlp_accuracy = accuracy_score(y_test_binary, y_pred_mlp)\n",
        "\n",
        "print(f\"Logistic Regression Accuracy: {log_reg_accuracy:.2f}\")\n",
        "print(f\"MLPClassifier Accuracy: {mlp_accuracy:.2f}\")\n",
        "\n",
        "# Classification Reports\n",
        "print(\"Logistic Regression Classification Report:\")\n",
        "print(classification_report(y_test_binary, y_pred_log_reg))\n",
        "\n",
        "print(\"MLPClassifier Classification Report:\")\n",
        "print(classification_report(y_test_binary, y_pred_mlp))\n",
        "\n",
        "# Confusion Matrix and ROC Curve for each model\n",
        "fig, axes = plt.subplots(2, 2, figsize=(14, 10))\n",
        "\n",
        "# Confusion Matrix for Logistic Regression\n",
        "sns.heatmap(confusion_matrix(y_test_binary, y_pred_log_reg), annot=True, fmt=\"d\", ax=axes[0, 0])\n",
        "axes[0, 0].set_title(\"Logistic Regression Confusion Matrix\")\n",
        "\n",
        "# Confusion Matrix for MLP\n",
        "sns.heatmap(confusion_matrix(y_test_binary, y_pred_mlp), annot=True, fmt=\"d\", ax=axes[0, 1])\n",
        "axes[0, 1].set_title(\"MLPClassifier Confusion Matrix\")\n",
        "\n",
        "# ROC Curve for Logistic Regression\n",
        "fpr_log_reg, tpr_log_reg, _ = roc_curve(y_test_binary, log_reg.predict_proba(X_test)[:, 1])\n",
        "roc_auc_log_reg = auc(fpr_log_reg, tpr_log_reg)\n",
        "axes[1, 0].plot(fpr_log_reg, tpr_log_reg, label=f'Logistic Regression (AUC = {roc_auc_log_reg:.2f})')\n",
        "axes[1, 0].plot([0, 1], [0, 1], 'k--')\n",
        "axes[1, 0].set_title(\"Logistic Regression ROC Curve\")\n",
        "axes[1, 0].legend()\n",
        "\n",
        "# ROC Curve for MLPClassifier\n",
        "fpr_mlp, tpr_mlp, _ = roc_curve(y_test_binary, mlp.predict_proba(X_test)[:, 1])\n",
        "roc_auc_mlp = auc(fpr_mlp, tpr_mlp)\n",
        "axes[1, 1].plot(fpr_mlp, tpr_mlp, label=f'MLPClassifier (AUC = {roc_auc_mlp:.2f})')\n",
        "axes[1, 1].plot([0, 1], [0, 1], 'k--')\n",
        "axes[1, 1].set_title(\"MLPClassifier ROC Curve\")\n",
        "axes[1, 1].legend()\n",
        "\n",
        "plt.tight_layout()\n",
        "plt.show()"
      ]
    },
    {
      "cell_type": "markdown",
      "metadata": {
        "id": "F_FVx62HcYPB"
      },
      "source": [
        "## Conclusion\n",
        "\n",
        "This notebook introduced the basics of supervised machine learning, covering the key steps from data collection to model deployment. Practice with different datasets and algorithms to deepen your understanding of these concepts."
      ]
    }
  ],
  "metadata": {
    "kernelspec": {
      "display_name": "Python 3",
      "language": "python",
      "name": "python3"
    },
    "language_info": {
      "codemirror_mode": {
        "name": "ipython",
        "version": 3
      },
      "file_extension": ".py",
      "mimetype": "text/x-python",
      "name": "python",
      "nbconvert_exporter": "python",
      "pygments_lexer": "ipython3",
      "version": "3.13.0"
    },
    "colab": {
      "provenance": [],
      "include_colab_link": true
    }
  },
  "nbformat": 4,
  "nbformat_minor": 0
}